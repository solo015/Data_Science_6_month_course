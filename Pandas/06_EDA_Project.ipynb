{
 "cells": [
  {
   "cell_type": "markdown",
   "id": "a0942d40",
   "metadata": {},
   "source": [
    "# EDA Project: on Google Play Store Data with 2.3+ Millions Records \n",
    "\n",
    "Internship Platform: Data Glacier, [KultureHire](https://www.kulturehire.com/candidate/dashboard) | [internstreet](https://www.internstreet.co/)\n",
    "https://www.kulturehire.com/candidate/dashboard"
   ]
  },
  {
   "cell_type": "markdown",
   "id": "39cf04dd",
   "metadata": {},
   "source": [
    "## Complete Exploratory Data Analysis\n",
    "---\n",
    "### About Dataset\n",
    "> **Description**: This dataset in taken from kaggle from following [link](https://www.kaggle.com/datasets/gauthamp10/google-playstore-apps?select=Google-Playstore.csv)\n",
    "\n",
    "Gautham Prakash, \"Google Play Store App data of 2.3 Million+ applications.\" June 2021 [Online] [Available](https://www.kaggle.com/datasets/gauthamp10/google-playstore-apps?select=Google-Playstore.csv)\n",
    "\n",
    "**Context**:\n",
    "\n",
    "Google PlayStore Android App Data. (2.3 Million+ App Data)\\\n",
    "Backup repo: [Link](https://github.com/gauthamp10/Google-Playstore-Dataset)\n",
    "\n",
    "**Content**:\n",
    "\n",
    "I've collected the data with the help of Python script (Scrapy) running on a cloud vm instance.\n",
    "The data was collected in the month of June 2021.\n",
    "\n",
    "**Acknowledgements**:\n",
    "\n",
    "I couldn't have build this dataset without the help of Github Education and switched to facundoolano/google-play-scraper for sane reasons.\n",
    "\n",
    "**Inspiration**:\n",
    "\n",
    "Took inspiration from: [Link](https://www.kaggle.com/lava18/google-play-store-apps) to build a big database for students and researchers.\n"
   ]
  },
  {
   "cell_type": "markdown",
   "id": "ba666e6e",
   "metadata": {},
   "source": [
    "## Step 1: Import Libraries"
   ]
  },
  {
   "cell_type": "code",
   "execution_count": 1,
   "id": "a773b0f0",
   "metadata": {},
   "outputs": [],
   "source": [
    "import pandas as pd\n",
    "import numpy as np\n",
    "import matplotlib.pyplot as plt \n",
    "import seaborn as sns\n",
    "%matplotlib inline"
   ]
  },
  {
   "cell_type": "markdown",
   "id": "aa5bf773",
   "metadata": {},
   "source": [
    "## Step 2:  Data Loading and Exploration | Cleaning\n",
    "- Loading the Dataset\n",
    "- Storing the data into Dataframe to apply pandas library\n",
    "- Dealing with missing data, outliers, inconsistancies in dataset"
   ]
  },
  {
   "cell_type": "markdown",
   "id": "efcf8967",
   "metadata": {},
   "source": [
    "- let's load the dataset"
   ]
  },
  {
   "cell_type": "code",
   "execution_count": 2,
   "id": "bb635af1",
   "metadata": {},
   "outputs": [],
   "source": [
    "# loading dataset\n",
    "df2 = pd.read_csv('./data/Google-Playstore.csv')\n",
    "# df2 = df.sample(frac = 0.25)"
   ]
  },
  {
   "cell_type": "markdown",
   "id": "15724c19",
   "metadata": {},
   "source": [
    "- I need to sample the data first for fast processing"
   ]
  },
  {
   "cell_type": "code",
   "execution_count": 3,
   "id": "99802d16",
   "metadata": {},
   "outputs": [],
   "source": [
    "df = df2.sample(frac = 0.1)"
   ]
  },
  {
   "cell_type": "markdown",
   "id": "18931e7a",
   "metadata": {},
   "source": [
    "> Note: Dataset's all columns and rows does not presents for observations so we some important commands to show the all columns and rows"
   ]
  },
  {
   "cell_type": "code",
   "execution_count": 4,
   "id": "250a787b",
   "metadata": {},
   "outputs": [],
   "source": [
    "pd.set_option('display.max_columns', None)\n",
    "pd.set_option('display.max_rows', None)\n",
    "\n",
    "# hide warnings\n",
    "import warnings\n",
    "warnings.filterwarnings('ignore')"
   ]
  },
  {
   "cell_type": "markdown",
   "id": "857067dd",
   "metadata": {},
   "source": [
    "- let's check the all detailed information of dataset through info function"
   ]
  },
  {
   "cell_type": "code",
   "execution_count": 5,
   "id": "7e910ec9",
   "metadata": {},
   "outputs": [
    {
     "name": "stdout",
     "output_type": "stream",
     "text": [
      "<class 'pandas.core.frame.DataFrame'>\n",
      "Index: 231294 entries, 1999051 to 1763311\n",
      "Data columns (total 24 columns):\n",
      " #   Column             Non-Null Count   Dtype  \n",
      "---  ------             --------------   -----  \n",
      " 0   App Name           231292 non-null  object \n",
      " 1   App Id             231294 non-null  object \n",
      " 2   Category           231294 non-null  object \n",
      " 3   Rating             229047 non-null  float64\n",
      " 4   Rating Count       229047 non-null  float64\n",
      " 5   Installs           231284 non-null  object \n",
      " 6   Minimum Installs   231284 non-null  float64\n",
      " 7   Maximum Installs   231294 non-null  int64  \n",
      " 8   Free               231294 non-null  bool   \n",
      " 9   Price              231294 non-null  float64\n",
      " 10  Currency           231281 non-null  object \n",
      " 11  Size               231280 non-null  object \n",
      " 12  Minimum Android    230662 non-null  object \n",
      " 13  Developer Id       231290 non-null  object \n",
      " 14  Developer Website  155451 non-null  object \n",
      " 15  Developer Email    231292 non-null  object \n",
      " 16  Released           224366 non-null  object \n",
      " 17  Last Updated       231294 non-null  object \n",
      " 18  Content Rating     231294 non-null  object \n",
      " 19  Privacy Policy     189472 non-null  object \n",
      " 20  Ad Supported       231294 non-null  bool   \n",
      " 21  In App Purchases   231294 non-null  bool   \n",
      " 22  Editors Choice     231294 non-null  bool   \n",
      " 23  Scraped Time       231294 non-null  object \n",
      "dtypes: bool(4), float64(4), int64(1), object(15)\n",
      "memory usage: 37.9+ MB\n"
     ]
    }
   ],
   "source": [
    "df.info()"
   ]
  },
  {
   "cell_type": "markdown",
   "id": "39ade1dc",
   "metadata": {},
   "source": [
    "# Observation:\n",
    "1. total 24 columns of Data this dataset.\n",
    "2. there are 4 boolean columns.\n",
    "3. There is 1 integer column.\n",
    "4. There are 4 float columns.\n",
    "5. There are 15 object columns.\n",
    "\n",
    "---\n",
    "But we can completely rely on this formate of datast."
   ]
  },
  {
   "cell_type": "markdown",
   "id": "44de75c4",
   "metadata": {},
   "source": [
    "- check column names"
   ]
  },
  {
   "cell_type": "code",
   "execution_count": 12,
   "id": "429cc283",
   "metadata": {},
   "outputs": [
    {
     "data": {
      "text/plain": [
       "Index(['App Name', 'App Id', 'Category', 'Rating', 'Rating Count', 'Installs',\n",
       "       'Minimum Installs', 'Maximum Installs', 'Free', 'Price', 'Currency',\n",
       "       'Size', 'Minimum Android', 'Developer Id', 'Developer Website',\n",
       "       'Developer Email', 'Released', 'Last Updated', 'Content Rating',\n",
       "       'Privacy Policy', 'Ad Supported', 'In App Purchases', 'Editors Choice',\n",
       "       'Scraped Time'],\n",
       "      dtype='object')"
      ]
     },
     "execution_count": 12,
     "metadata": {},
     "output_type": "execute_result"
    }
   ],
   "source": [
    "df.columns"
   ]
  },
  {
   "cell_type": "markdown",
   "id": "da10d0ed",
   "metadata": {},
   "source": [
    "- check top 10 values of the columns"
   ]
  },
  {
   "cell_type": "code",
   "execution_count": 20,
   "id": "a62a0941",
   "metadata": {},
   "outputs": [
    {
     "data": {
      "text/html": [
       "<div>\n",
       "<style scoped>\n",
       "    .dataframe tbody tr th:only-of-type {\n",
       "        vertical-align: middle;\n",
       "    }\n",
       "\n",
       "    .dataframe tbody tr th {\n",
       "        vertical-align: top;\n",
       "    }\n",
       "\n",
       "    .dataframe thead th {\n",
       "        text-align: right;\n",
       "    }\n",
       "</style>\n",
       "<table border=\"1\" class=\"dataframe\">\n",
       "  <thead>\n",
       "    <tr style=\"text-align: right;\">\n",
       "      <th></th>\n",
       "      <th>App Name</th>\n",
       "      <th>App Id</th>\n",
       "      <th>Category</th>\n",
       "      <th>Rating</th>\n",
       "      <th>Rating Count</th>\n",
       "      <th>Installs</th>\n",
       "      <th>Minimum Installs</th>\n",
       "      <th>Maximum Installs</th>\n",
       "      <th>Free</th>\n",
       "      <th>Price</th>\n",
       "      <th>Currency</th>\n",
       "      <th>Size</th>\n",
       "      <th>Minimum Android</th>\n",
       "      <th>Developer Id</th>\n",
       "      <th>Developer Website</th>\n",
       "      <th>Developer Email</th>\n",
       "      <th>Released</th>\n",
       "      <th>Last Updated</th>\n",
       "      <th>Content Rating</th>\n",
       "      <th>Privacy Policy</th>\n",
       "      <th>Ad Supported</th>\n",
       "      <th>In App Purchases</th>\n",
       "      <th>Editors Choice</th>\n",
       "      <th>Scraped Time</th>\n",
       "    </tr>\n",
       "  </thead>\n",
       "  <tbody>\n",
       "    <tr>\n",
       "      <th>1999051</th>\n",
       "      <td>Glückwünsche Zum Geburtstag</td>\n",
       "      <td>com.teamapps.happyBirthdaygermany</td>\n",
       "      <td>Lifestyle</td>\n",
       "      <td>0.0</td>\n",
       "      <td>0.0</td>\n",
       "      <td>100+</td>\n",
       "      <td>100.0</td>\n",
       "      <td>347</td>\n",
       "      <td>True</td>\n",
       "      <td>0.0</td>\n",
       "      <td>USD</td>\n",
       "      <td>2.0M</td>\n",
       "      <td>4.2 and up</td>\n",
       "      <td>CuteFun</td>\n",
       "      <td>http://www.meilleurjeuxandroid.net/</td>\n",
       "      <td>ennacirideveloper@gmail.com</td>\n",
       "      <td>Jan 7, 2019</td>\n",
       "      <td>Jan 07, 2019</td>\n",
       "      <td>Teen</td>\n",
       "      <td>https://sites.google.com/view/devappsnew-priva...</td>\n",
       "      <td>True</td>\n",
       "      <td>False</td>\n",
       "      <td>False</td>\n",
       "      <td>2021-06-16 08:25:39</td>\n",
       "    </tr>\n",
       "    <tr>\n",
       "      <th>1151748</th>\n",
       "      <td>Seu Zé</td>\n",
       "      <td>br.com.bb.seuzeapp</td>\n",
       "      <td>Tools</td>\n",
       "      <td>NaN</td>\n",
       "      <td>NaN</td>\n",
       "      <td>500+</td>\n",
       "      <td>500.0</td>\n",
       "      <td>698</td>\n",
       "      <td>True</td>\n",
       "      <td>0.0</td>\n",
       "      <td>USD</td>\n",
       "      <td>Varies with device</td>\n",
       "      <td>Varies with device</td>\n",
       "      <td>Banco do Brasil SA</td>\n",
       "      <td>https://www.bb.com.br/</td>\n",
       "      <td>gecap.mobile@bb.com.br</td>\n",
       "      <td>NaN</td>\n",
       "      <td>Mar 14, 2019</td>\n",
       "      <td>Everyone</td>\n",
       "      <td>NaN</td>\n",
       "      <td>False</td>\n",
       "      <td>False</td>\n",
       "      <td>False</td>\n",
       "      <td>2021-06-16 14:46:03</td>\n",
       "    </tr>\n",
       "    <tr>\n",
       "      <th>538514</th>\n",
       "      <td>Keşifler Çağı</td>\n",
       "      <td>air.kesiflercagiand</td>\n",
       "      <td>Education</td>\n",
       "      <td>4.5</td>\n",
       "      <td>8.0</td>\n",
       "      <td>100+</td>\n",
       "      <td>100.0</td>\n",
       "      <td>435</td>\n",
       "      <td>True</td>\n",
       "      <td>0.0</td>\n",
       "      <td>USD</td>\n",
       "      <td>5.1M</td>\n",
       "      <td>2.2 and up</td>\n",
       "      <td>Terakki Vakfı Okulları</td>\n",
       "      <td>http://www.terakki.org.tr</td>\n",
       "      <td>dmtkuyuk@gmail.com</td>\n",
       "      <td>Jun 8, 2015</td>\n",
       "      <td>Jun 08, 2015</td>\n",
       "      <td>Everyone</td>\n",
       "      <td>NaN</td>\n",
       "      <td>False</td>\n",
       "      <td>False</td>\n",
       "      <td>False</td>\n",
       "      <td>2021-06-16 05:10:00</td>\n",
       "    </tr>\n",
       "    <tr>\n",
       "      <th>522905</th>\n",
       "      <td>radio lazer 102.9 oxnard</td>\n",
       "      <td>com.planetaapps.lazeroxnardonline.lazeroxnard</td>\n",
       "      <td>Music &amp; Audio</td>\n",
       "      <td>0.0</td>\n",
       "      <td>0.0</td>\n",
       "      <td>100+</td>\n",
       "      <td>100.0</td>\n",
       "      <td>333</td>\n",
       "      <td>True</td>\n",
       "      <td>0.0</td>\n",
       "      <td>USD</td>\n",
       "      <td>4.0M</td>\n",
       "      <td>4.0.3 and up</td>\n",
       "      <td>planetaapps</td>\n",
       "      <td>NaN</td>\n",
       "      <td>planetaapps24@gmail.com</td>\n",
       "      <td>Jun 5, 2019</td>\n",
       "      <td>Jul 18, 2019</td>\n",
       "      <td>Teen</td>\n",
       "      <td>https://www.facebook.com/notes/planetaapps/pri...</td>\n",
       "      <td>True</td>\n",
       "      <td>False</td>\n",
       "      <td>False</td>\n",
       "      <td>2021-06-16 04:55:42</td>\n",
       "    </tr>\n",
       "    <tr>\n",
       "      <th>1533904</th>\n",
       "      <td>Suarez Movement</td>\n",
       "      <td>com.trainerize.suarezmovement</td>\n",
       "      <td>Health &amp; Fitness</td>\n",
       "      <td>0.0</td>\n",
       "      <td>0.0</td>\n",
       "      <td>10+</td>\n",
       "      <td>10.0</td>\n",
       "      <td>17</td>\n",
       "      <td>True</td>\n",
       "      <td>0.0</td>\n",
       "      <td>USD</td>\n",
       "      <td>153M</td>\n",
       "      <td>6.0 and up</td>\n",
       "      <td>TRAINERIZE</td>\n",
       "      <td>http://trainwithluis.trainerize.com/</td>\n",
       "      <td>help@trainerize.com</td>\n",
       "      <td>Aug 24, 2020</td>\n",
       "      <td>May 31, 2021</td>\n",
       "      <td>Everyone</td>\n",
       "      <td>http://www.trainerize.com/privacy.aspx</td>\n",
       "      <td>False</td>\n",
       "      <td>False</td>\n",
       "      <td>False</td>\n",
       "      <td>2021-06-16 01:52:43</td>\n",
       "    </tr>\n",
       "    <tr>\n",
       "      <th>2180974</th>\n",
       "      <td>Trailer Cold</td>\n",
       "      <td>com.flottaweb.trailercold</td>\n",
       "      <td>Productivity</td>\n",
       "      <td>0.0</td>\n",
       "      <td>0.0</td>\n",
       "      <td>1+</td>\n",
       "      <td>1.0</td>\n",
       "      <td>2</td>\n",
       "      <td>True</td>\n",
       "      <td>0.0</td>\n",
       "      <td>USD</td>\n",
       "      <td>27M</td>\n",
       "      <td>4.4 and up</td>\n",
       "      <td>Sistemisoft Srl</td>\n",
       "      <td>http://www.trailercold.com</td>\n",
       "      <td>info@sistemisoft.com</td>\n",
       "      <td>NaN</td>\n",
       "      <td>Aug 28, 2020</td>\n",
       "      <td>Everyone</td>\n",
       "      <td>https://www.flottaweb.com/privacy-policy/</td>\n",
       "      <td>False</td>\n",
       "      <td>False</td>\n",
       "      <td>False</td>\n",
       "      <td>2021-06-16 11:03:48</td>\n",
       "    </tr>\n",
       "    <tr>\n",
       "      <th>1279455</th>\n",
       "      <td>Supermercados Grilo</td>\n",
       "      <td>com.VRSoft.SupermercadoGrilo</td>\n",
       "      <td>Shopping</td>\n",
       "      <td>4.1</td>\n",
       "      <td>96.0</td>\n",
       "      <td>10,000+</td>\n",
       "      <td>10000.0</td>\n",
       "      <td>20831</td>\n",
       "      <td>True</td>\n",
       "      <td>0.0</td>\n",
       "      <td>USD</td>\n",
       "      <td>29M</td>\n",
       "      <td>4.1 and up</td>\n",
       "      <td>VR Connect</td>\n",
       "      <td>http://www.nweb.com.br</td>\n",
       "      <td>atendimento@nweb.com.br</td>\n",
       "      <td>May 7, 2019</td>\n",
       "      <td>Jun 02, 2021</td>\n",
       "      <td>Everyone</td>\n",
       "      <td>http://www.ofert.as/privacidade/supermercado-g...</td>\n",
       "      <td>False</td>\n",
       "      <td>False</td>\n",
       "      <td>False</td>\n",
       "      <td>2021-06-15 21:52:39</td>\n",
       "    </tr>\n",
       "    <tr>\n",
       "      <th>1301021</th>\n",
       "      <td>English Catechism Book</td>\n",
       "      <td>com.moonstarinc.ecb</td>\n",
       "      <td>Books &amp; Reference</td>\n",
       "      <td>4.4</td>\n",
       "      <td>412.0</td>\n",
       "      <td>50,000+</td>\n",
       "      <td>50000.0</td>\n",
       "      <td>62406</td>\n",
       "      <td>True</td>\n",
       "      <td>0.0</td>\n",
       "      <td>USD</td>\n",
       "      <td>2.6M</td>\n",
       "      <td>4.1 and up</td>\n",
       "      <td>MoonStarInc</td>\n",
       "      <td>https://www.moonstarinc.com/</td>\n",
       "      <td>contactmoonstarinc@gmail.com</td>\n",
       "      <td>Aug 18, 2012</td>\n",
       "      <td>Sep 18, 2020</td>\n",
       "      <td>Everyone</td>\n",
       "      <td>https://www.moonstarinc.com/about/privacy_terms</td>\n",
       "      <td>True</td>\n",
       "      <td>False</td>\n",
       "      <td>False</td>\n",
       "      <td>2021-06-15 22:11:26</td>\n",
       "    </tr>\n",
       "    <tr>\n",
       "      <th>795122</th>\n",
       "      <td>Christmas coloring book offline. Paint year 2021</td>\n",
       "      <td>com.chrismasdraw.coloringbook</td>\n",
       "      <td>Entertainment</td>\n",
       "      <td>5.0</td>\n",
       "      <td>5.0</td>\n",
       "      <td>100+</td>\n",
       "      <td>100.0</td>\n",
       "      <td>126</td>\n",
       "      <td>True</td>\n",
       "      <td>0.0</td>\n",
       "      <td>USD</td>\n",
       "      <td>16M</td>\n",
       "      <td>4.4W and up</td>\n",
       "      <td>Tyler Ro</td>\n",
       "      <td>NaN</td>\n",
       "      <td>taylertheblackindie@gmail.com</td>\n",
       "      <td>Dec 3, 2020</td>\n",
       "      <td>Dec 13, 2020</td>\n",
       "      <td>Everyone</td>\n",
       "      <td>https://docs.google.com/document/d/1XTELmdPLUu...</td>\n",
       "      <td>True</td>\n",
       "      <td>False</td>\n",
       "      <td>False</td>\n",
       "      <td>2021-06-16 09:07:22</td>\n",
       "    </tr>\n",
       "    <tr>\n",
       "      <th>482870</th>\n",
       "      <td>Dot Box</td>\n",
       "      <td>com.BennyPink.DotBox</td>\n",
       "      <td>Casual</td>\n",
       "      <td>0.0</td>\n",
       "      <td>0.0</td>\n",
       "      <td>5+</td>\n",
       "      <td>5.0</td>\n",
       "      <td>8</td>\n",
       "      <td>True</td>\n",
       "      <td>0.0</td>\n",
       "      <td>USD</td>\n",
       "      <td>12M</td>\n",
       "      <td>4.1 and up</td>\n",
       "      <td>Byte Block Studio</td>\n",
       "      <td>NaN</td>\n",
       "      <td>bennypink1@gmail.com</td>\n",
       "      <td>Nov 28, 2019</td>\n",
       "      <td>Jan 22, 2020</td>\n",
       "      <td>Everyone</td>\n",
       "      <td>NaN</td>\n",
       "      <td>True</td>\n",
       "      <td>False</td>\n",
       "      <td>False</td>\n",
       "      <td>2021-06-16 04:19:48</td>\n",
       "    </tr>\n",
       "  </tbody>\n",
       "</table>\n",
       "</div>"
      ],
      "text/plain": [
       "                                                 App Name  \\\n",
       "1999051                       Glückwünsche Zum Geburtstag   \n",
       "1151748                                            Seu Zé   \n",
       "538514                                      Keşifler Çağı   \n",
       "522905                           radio lazer 102.9 oxnard   \n",
       "1533904                                   Suarez Movement   \n",
       "2180974                                      Trailer Cold   \n",
       "1279455                               Supermercados Grilo   \n",
       "1301021                            English Catechism Book   \n",
       "795122   Christmas coloring book offline. Paint year 2021   \n",
       "482870                                            Dot Box   \n",
       "\n",
       "                                                App Id           Category  \\\n",
       "1999051              com.teamapps.happyBirthdaygermany          Lifestyle   \n",
       "1151748                             br.com.bb.seuzeapp              Tools   \n",
       "538514                             air.kesiflercagiand          Education   \n",
       "522905   com.planetaapps.lazeroxnardonline.lazeroxnard      Music & Audio   \n",
       "1533904                  com.trainerize.suarezmovement   Health & Fitness   \n",
       "2180974                      com.flottaweb.trailercold       Productivity   \n",
       "1279455                   com.VRSoft.SupermercadoGrilo           Shopping   \n",
       "1301021                            com.moonstarinc.ecb  Books & Reference   \n",
       "795122                   com.chrismasdraw.coloringbook      Entertainment   \n",
       "482870                            com.BennyPink.DotBox             Casual   \n",
       "\n",
       "         Rating  Rating Count Installs  Minimum Installs  Maximum Installs  \\\n",
       "1999051     0.0           0.0     100+             100.0               347   \n",
       "1151748     NaN           NaN     500+             500.0               698   \n",
       "538514      4.5           8.0     100+             100.0               435   \n",
       "522905      0.0           0.0     100+             100.0               333   \n",
       "1533904     0.0           0.0      10+              10.0                17   \n",
       "2180974     0.0           0.0       1+               1.0                 2   \n",
       "1279455     4.1          96.0  10,000+           10000.0             20831   \n",
       "1301021     4.4         412.0  50,000+           50000.0             62406   \n",
       "795122      5.0           5.0     100+             100.0               126   \n",
       "482870      0.0           0.0       5+               5.0                 8   \n",
       "\n",
       "         Free  Price Currency                Size     Minimum Android  \\\n",
       "1999051  True    0.0      USD                2.0M          4.2 and up   \n",
       "1151748  True    0.0      USD  Varies with device  Varies with device   \n",
       "538514   True    0.0      USD                5.1M          2.2 and up   \n",
       "522905   True    0.0      USD                4.0M        4.0.3 and up   \n",
       "1533904  True    0.0      USD                153M          6.0 and up   \n",
       "2180974  True    0.0      USD                 27M          4.4 and up   \n",
       "1279455  True    0.0      USD                 29M          4.1 and up   \n",
       "1301021  True    0.0      USD                2.6M          4.1 and up   \n",
       "795122   True    0.0      USD                 16M         4.4W and up   \n",
       "482870   True    0.0      USD                 12M          4.1 and up   \n",
       "\n",
       "                   Developer Id                     Developer Website  \\\n",
       "1999051                 CuteFun   http://www.meilleurjeuxandroid.net/   \n",
       "1151748      Banco do Brasil SA                https://www.bb.com.br/   \n",
       "538514   Terakki Vakfı Okulları             http://www.terakki.org.tr   \n",
       "522905              planetaapps                                   NaN   \n",
       "1533904              TRAINERIZE  http://trainwithluis.trainerize.com/   \n",
       "2180974         Sistemisoft Srl            http://www.trailercold.com   \n",
       "1279455              VR Connect                http://www.nweb.com.br   \n",
       "1301021             MoonStarInc         https://www.moonstarinc.com/    \n",
       "795122                 Tyler Ro                                   NaN   \n",
       "482870        Byte Block Studio                                   NaN   \n",
       "\n",
       "                       Developer Email      Released  Last Updated  \\\n",
       "1999051    ennacirideveloper@gmail.com   Jan 7, 2019  Jan 07, 2019   \n",
       "1151748         gecap.mobile@bb.com.br           NaN  Mar 14, 2019   \n",
       "538514              dmtkuyuk@gmail.com   Jun 8, 2015  Jun 08, 2015   \n",
       "522905         planetaapps24@gmail.com   Jun 5, 2019  Jul 18, 2019   \n",
       "1533904            help@trainerize.com  Aug 24, 2020  May 31, 2021   \n",
       "2180974           info@sistemisoft.com           NaN  Aug 28, 2020   \n",
       "1279455        atendimento@nweb.com.br   May 7, 2019  Jun 02, 2021   \n",
       "1301021   contactmoonstarinc@gmail.com  Aug 18, 2012  Sep 18, 2020   \n",
       "795122   taylertheblackindie@gmail.com   Dec 3, 2020  Dec 13, 2020   \n",
       "482870            bennypink1@gmail.com  Nov 28, 2019  Jan 22, 2020   \n",
       "\n",
       "        Content Rating                                     Privacy Policy  \\\n",
       "1999051           Teen  https://sites.google.com/view/devappsnew-priva...   \n",
       "1151748       Everyone                                                NaN   \n",
       "538514        Everyone                                                NaN   \n",
       "522905            Teen  https://www.facebook.com/notes/planetaapps/pri...   \n",
       "1533904       Everyone             http://www.trainerize.com/privacy.aspx   \n",
       "2180974       Everyone          https://www.flottaweb.com/privacy-policy/   \n",
       "1279455       Everyone  http://www.ofert.as/privacidade/supermercado-g...   \n",
       "1301021       Everyone    https://www.moonstarinc.com/about/privacy_terms   \n",
       "795122        Everyone  https://docs.google.com/document/d/1XTELmdPLUu...   \n",
       "482870        Everyone                                                NaN   \n",
       "\n",
       "         Ad Supported  In App Purchases  Editors Choice         Scraped Time  \n",
       "1999051          True             False           False  2021-06-16 08:25:39  \n",
       "1151748         False             False           False  2021-06-16 14:46:03  \n",
       "538514          False             False           False  2021-06-16 05:10:00  \n",
       "522905           True             False           False  2021-06-16 04:55:42  \n",
       "1533904         False             False           False  2021-06-16 01:52:43  \n",
       "2180974         False             False           False  2021-06-16 11:03:48  \n",
       "1279455         False             False           False  2021-06-15 21:52:39  \n",
       "1301021          True             False           False  2021-06-15 22:11:26  \n",
       "795122           True             False           False  2021-06-16 09:07:22  \n",
       "482870           True             False           False  2021-06-16 04:19:48  "
      ]
     },
     "execution_count": 20,
     "metadata": {},
     "output_type": "execute_result"
    }
   ],
   "source": [
    "df.head(10)"
   ]
  },
  {
   "cell_type": "markdown",
   "id": "1f7d876e",
   "metadata": {},
   "source": [
    "# Observations:\n",
    "- According to current observation, There are `10` columns which are numeric.\n",
    "- These columns are `'Rating', 'Rating Count', 'Installs', 'Minimum Installs', 'Maximum Installs', 'Free', 'Size', 'Ad Supported', 'In App Purchases', 'Editors Choice'`"
   ]
  },
  {
   "cell_type": "markdown",
   "id": "a00e4695",
   "metadata": {},
   "source": [
    "---\n",
    "- Now, We know which are numeric columns and which columns need to be make consistant and correct the formating."
   ]
  },
  {
   "cell_type": "code",
   "execution_count": 8,
   "id": "68fcb419",
   "metadata": {},
   "outputs": [
    {
     "data": {
      "text/html": [
       "<div>\n",
       "<style scoped>\n",
       "    .dataframe tbody tr th:only-of-type {\n",
       "        vertical-align: middle;\n",
       "    }\n",
       "\n",
       "    .dataframe tbody tr th {\n",
       "        vertical-align: top;\n",
       "    }\n",
       "\n",
       "    .dataframe thead th {\n",
       "        text-align: right;\n",
       "    }\n",
       "</style>\n",
       "<table border=\"1\" class=\"dataframe\">\n",
       "  <thead>\n",
       "    <tr style=\"text-align: right;\">\n",
       "      <th></th>\n",
       "      <th>Rating</th>\n",
       "      <th>Rating Count</th>\n",
       "      <th>Minimum Installs</th>\n",
       "      <th>Maximum Installs</th>\n",
       "      <th>Price</th>\n",
       "    </tr>\n",
       "  </thead>\n",
       "  <tbody>\n",
       "    <tr>\n",
       "      <th>count</th>\n",
       "      <td>229047.000000</td>\n",
       "      <td>2.290470e+05</td>\n",
       "      <td>2.312840e+05</td>\n",
       "      <td>2.312940e+05</td>\n",
       "      <td>231294.000000</td>\n",
       "    </tr>\n",
       "    <tr>\n",
       "      <th>mean</th>\n",
       "      <td>2.205521</td>\n",
       "      <td>2.558876e+03</td>\n",
       "      <td>2.094405e+05</td>\n",
       "      <td>3.700657e+05</td>\n",
       "      <td>0.105997</td>\n",
       "    </tr>\n",
       "    <tr>\n",
       "      <th>std</th>\n",
       "      <td>2.105733</td>\n",
       "      <td>1.028280e+05</td>\n",
       "      <td>1.886568e+07</td>\n",
       "      <td>3.398192e+07</td>\n",
       "      <td>2.618078</td>\n",
       "    </tr>\n",
       "    <tr>\n",
       "      <th>min</th>\n",
       "      <td>0.000000</td>\n",
       "      <td>0.000000e+00</td>\n",
       "      <td>0.000000e+00</td>\n",
       "      <td>0.000000e+00</td>\n",
       "      <td>0.000000</td>\n",
       "    </tr>\n",
       "    <tr>\n",
       "      <th>25%</th>\n",
       "      <td>0.000000</td>\n",
       "      <td>0.000000e+00</td>\n",
       "      <td>5.000000e+01</td>\n",
       "      <td>8.500000e+01</td>\n",
       "      <td>0.000000</td>\n",
       "    </tr>\n",
       "    <tr>\n",
       "      <th>50%</th>\n",
       "      <td>3.000000</td>\n",
       "      <td>6.000000e+00</td>\n",
       "      <td>5.000000e+02</td>\n",
       "      <td>6.930000e+02</td>\n",
       "      <td>0.000000</td>\n",
       "    </tr>\n",
       "    <tr>\n",
       "      <th>75%</th>\n",
       "      <td>4.300000</td>\n",
       "      <td>4.200000e+01</td>\n",
       "      <td>5.000000e+03</td>\n",
       "      <td>7.433000e+03</td>\n",
       "      <td>0.000000</td>\n",
       "    </tr>\n",
       "    <tr>\n",
       "      <th>max</th>\n",
       "      <td>5.000000</td>\n",
       "      <td>2.634006e+07</td>\n",
       "      <td>5.000000e+09</td>\n",
       "      <td>9.154248e+09</td>\n",
       "      <td>399.990000</td>\n",
       "    </tr>\n",
       "  </tbody>\n",
       "</table>\n",
       "</div>"
      ],
      "text/plain": [
       "              Rating  Rating Count  Minimum Installs  Maximum Installs  \\\n",
       "count  229047.000000  2.290470e+05      2.312840e+05      2.312940e+05   \n",
       "mean        2.205521  2.558876e+03      2.094405e+05      3.700657e+05   \n",
       "std         2.105733  1.028280e+05      1.886568e+07      3.398192e+07   \n",
       "min         0.000000  0.000000e+00      0.000000e+00      0.000000e+00   \n",
       "25%         0.000000  0.000000e+00      5.000000e+01      8.500000e+01   \n",
       "50%         3.000000  6.000000e+00      5.000000e+02      6.930000e+02   \n",
       "75%         4.300000  4.200000e+01      5.000000e+03      7.433000e+03   \n",
       "max         5.000000  2.634006e+07      5.000000e+09      9.154248e+09   \n",
       "\n",
       "               Price  \n",
       "count  231294.000000  \n",
       "mean        0.105997  \n",
       "std         2.618078  \n",
       "min         0.000000  \n",
       "25%         0.000000  \n",
       "50%         0.000000  \n",
       "75%         0.000000  \n",
       "max       399.990000  "
      ]
     },
     "execution_count": 8,
     "metadata": {},
     "output_type": "execute_result"
    }
   ],
   "source": [
    "df.describe()"
   ]
  },
  {
   "cell_type": "markdown",
   "id": "8e93da99",
   "metadata": {},
   "source": [
    "## Observations:\n",
    "- There are 4 columns are numeric.\n",
    "- We need to observe more columns to verify.\n",
    "- while the `'Rating', 'Rating Count', 'Minimum Installs', 'Maximum Installs', 'Price'` are the numeric.\n",
    "- but, we don't know about the `Nan` values in these columns."
   ]
  },
  {
   "cell_type": "markdown",
   "id": "f7d1608f",
   "metadata": {},
   "source": [
    "---\n",
    "Let's check missing values of `'Rating'`, `'Rating Count'`, `'Minimum Installs'`, `'Maximum Installs'`, `'Price'`"
   ]
  },
  {
   "cell_type": "code",
   "execution_count": 27,
   "id": "743bba0a",
   "metadata": {},
   "outputs": [
    {
     "data": {
      "text/plain": [
       "Rating              22883\n",
       "Rating Count        22883\n",
       "Minimum Installs      107\n",
       "Maximum Installs        0\n",
       "Price                   0\n",
       "dtype: int64"
      ]
     },
     "execution_count": 27,
     "metadata": {},
     "output_type": "execute_result"
    }
   ],
   "source": [
    "df2[['Rating', 'Rating Count', 'Minimum Installs', 'Maximum Installs', 'Price']].isnull().sum().sort_values(ascending = False)\n",
    "# print(f'Missing or Nan values of Rating are: ')"
   ]
  },
  {
   "cell_type": "markdown",
   "id": "889a2705",
   "metadata": {},
   "source": [
    "# Observations:\n",
    "- Missing values of `Rating` and`Rating Count` are `22883`.\n",
    "- Missing values of `Minimum Installs` are `107`.\n",
    "- while, missing value in `Maxim Installs` and `Price` are `0`."
   ]
  },
  {
   "cell_type": "markdown",
   "id": "614cf38b",
   "metadata": {},
   "source": [
    "- let's check column names"
   ]
  },
  {
   "cell_type": "code",
   "execution_count": 26,
   "id": "ce5b6083",
   "metadata": {},
   "outputs": [
    {
     "data": {
      "text/plain": [
       "Index(['App Name', 'App Id', 'Category', 'Rating', 'Rating Count', 'Installs',\n",
       "       'Minimum Installs', 'Maximum Installs', 'Free', 'Price', 'Currency',\n",
       "       'Size', 'Minimum Android', 'Developer Id', 'Developer Website',\n",
       "       'Developer Email', 'Released', 'Last Updated', 'Content Rating',\n",
       "       'Privacy Policy', 'Ad Supported', 'In App Purchases', 'Editors Choice',\n",
       "       'Scraped Time'],\n",
       "      dtype='object')"
      ]
     },
     "execution_count": 26,
     "metadata": {},
     "output_type": "execute_result"
    }
   ],
   "source": [
    "df.columns"
   ]
  },
  {
   "cell_type": "markdown",
   "id": "7127dc98",
   "metadata": {},
   "source": [
    "- let's check all columns missing values."
   ]
  },
  {
   "cell_type": "code",
   "execution_count": 104,
   "id": "11e621de",
   "metadata": {},
   "outputs": [
    {
     "data": {
      "text/plain": [
       "Developer Website    760835\n",
       "Privacy Policy       420953\n",
       "Released              71053\n",
       "Rating                22883\n",
       "Rating Count          22883\n",
       "Minimum Android        6530\n",
       "Size                    196\n",
       "Currency                135\n",
       "Minimum Installs        107\n",
       "Installs                107\n",
       "Developer Id             33\n",
       "Developer Email          31\n",
       "App Name                  5\n",
       "Maximum Installs          0\n",
       "App Id                    0\n",
       "Category                  0\n",
       "Price                     0\n",
       "Free                      0\n",
       "Last Updated              0\n",
       "Content Rating            0\n",
       "Ad Supported              0\n",
       "In App Purchases          0\n",
       "Editors Choice            0\n",
       "Scraped Time              0\n",
       "dtype: int64"
      ]
     },
     "execution_count": 104,
     "metadata": {},
     "output_type": "execute_result"
    }
   ],
   "source": [
    "df2.isnull().sum().sort_values(ascending = False) "
   ]
  },
  {
   "cell_type": "markdown",
   "id": "f991b3eb",
   "metadata": {},
   "source": [
    "# Observations:\n",
    "- Missing values of `'Developer Website'` are `760835`.\n",
    "- Missing values of `'Privacy Policy'` are `420953`.\n",
    "- Missing values of `'Released'` are `71053`.\n",
    "- Missing values of `'Rating'` and `'Rating Count'` are `22883`.\n",
    "- Missing values of `'Minimum Android'` are `6530`.\n",
    "- Missing values of `'Size'` are `196`.\n",
    "- Missing values of `'Currency'` are `135`.\n",
    "- Missing values of `'Minimum Installs'`, `'Installs'` are `107`.\n",
    "- Missing values of `'Developer Id'` are `33`.\n",
    "- Missing values of `'Developer Email'` are `31`.\n",
    "- Missing values of `'App Name'` are `5`.\n",
    "- Missing values of `'Maximum Installs'`, `'App Id'`, `'Category'`, `'Price'`, `'Free'`, `'Last Updated'`, `'Content Rating'`, `'Ad Supported'`, `'In App Purchases'`, `'Editors choice'`, `'Scraped Time'` are `0`.\n"
   ]
  },
  {
   "cell_type": "markdown",
   "id": "62de0971",
   "metadata": {},
   "source": [
    "- let's check the percentage of missing values."
   ]
  },
  {
   "cell_type": "code",
   "execution_count": 78,
   "id": "d5aa4062",
   "metadata": {},
   "outputs": [
    {
     "data": {
      "text/plain": [
       "'App Id'"
      ]
     },
     "execution_count": 78,
     "metadata": {},
     "output_type": "execute_result"
    }
   ],
   "source": [
    "df.columns[1]"
   ]
  },
  {
   "cell_type": "code",
   "execution_count": 103,
   "id": "04a6b1a3",
   "metadata": {},
   "outputs": [
    {
     "name": "stdout",
     "output_type": "stream",
     "text": [
      "Missing values in percentage of App Name :  0.00022\n",
      "Missing values in percentage of Rating :  0.98935\n",
      "Missing values in percentage of Rating Count :  0.98935\n",
      "Missing values in percentage of Installs :  0.00463\n",
      "Missing values in percentage of Minimum Installs :  0.00463\n",
      "Missing values in percentage of Currency :  0.00584\n",
      "Missing values in percentage of Size :  0.00847\n",
      "Missing values in percentage of Minimum Android :  0.28232\n",
      "Missing values in percentage of Developer Id :  0.00143\n",
      "Missing values in percentage of Developer Website :  32.89466\n",
      "Missing values in percentage of Developer Email :  0.00134\n",
      "Missing values in percentage of Released :  3.07197\n",
      "Missing values in percentage of Privacy Policy :  18.19988\n"
     ]
    }
   ],
   "source": [
    "cols = df.columns\n",
    "\n",
    "# def null_values(col):\n",
    "\n",
    "for col in cols:\n",
    "#     # print(col)\n",
    "#     print()\n",
    "    if df2[col].isnull().sum() > 0:\n",
    "        print(f'Missing values in percentage of {col} :  {round(df2[col].isnull().sum()/len(df2) * 100 , 5)}')\n",
    "    \n",
    "# col"
   ]
  },
  {
   "cell_type": "markdown",
   "id": "c472583d",
   "metadata": {},
   "source": [
    "# Observations:\n",
    "Missing values in percentage of App Name :  0.00022\\\n",
    "Missing values in percentage of Rating :  0.98935\\\n",
    "Missing values in percentage of Rating Count :  0.98935\\\n",
    "Missing values in percentage of Installs :  0.00463\\\n",
    "Missing values in percentage of Minimum Installs :  0.00463\\\n",
    "Missing values in percentage of Currency :  0.00584\\\n",
    "Missing values in percentage of Size :  0.00847\\\n",
    "Missing values in percentage of Minimum Android :  0.28232\\\n",
    "Missing values in percentage of Developer Id :  0.00143\\\n",
    "Missing values in percentage of Developer Website :  32.89466\\\n",
    "Missing values in percentage of Developer Email :  0.00134\\\n",
    "Missing values in percentage of Released :  3.07197\\\n",
    "Missing values in percentage of Privacy Policy :  18.19988\n"
   ]
  },
  {
   "cell_type": "markdown",
   "id": "780cc3cc",
   "metadata": {},
   "source": [
    "---\n",
    "let's "
   ]
  },
  {
   "cell_type": "code",
   "execution_count": null,
   "id": "ba46c8ca",
   "metadata": {},
   "outputs": [],
   "source": []
  }
 ],
 "metadata": {
  "kernelspec": {
   "display_name": "myenv",
   "language": "python",
   "name": "python3"
  },
  "language_info": {
   "codemirror_mode": {
    "name": "ipython",
    "version": 3
   },
   "file_extension": ".py",
   "mimetype": "text/x-python",
   "name": "python",
   "nbconvert_exporter": "python",
   "pygments_lexer": "ipython3",
   "version": "3.12.10"
  }
 },
 "nbformat": 4,
 "nbformat_minor": 5
}
