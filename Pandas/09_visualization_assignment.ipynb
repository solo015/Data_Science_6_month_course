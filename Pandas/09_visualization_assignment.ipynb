{
 "cells": [
  {
   "cell_type": "markdown",
   "id": "edfcfc9d",
   "metadata": {},
   "source": [
    "# Data Viz - Assignment\n",
    "Practice of data visualization of 10 different datasets \\\n",
    "by using :\n",
    "1. `Pandas`\n",
    "\n",
    "2. `Matplotlib`\n",
    "\n",
    "3. `Seaborn`\n",
    "\n",
    "4. `plotly`.\n",
    "\n",
    "### Datasets\n",
    "Source : https://opendata.com.pk\n",
    "\n",
    "| No. | Datasets | Author | \n",
    "|------|----------------| --------- | \n",
    "|1. | [stock-exchange-kse-100pakistan ](https://www.kaggle.com/zusmani/pakistan-stock-exchange-kse-100)       | Zeeshan-ul-hassan Usmani |\n",
    "|2. | [Pakistan Largest Ecommerce Dataset](https://www.kaggle.com/zusmani/pakistans-largest-ecommerce-dataset)   | Zeeshan-ul-hassan Usmani |\n",
    "| 3. | [Pakistan's Job Market](https://www.kaggle.com/zusmani/pakistans-job-market) | Zeeshan-ul-hassan Usmani |\n",
    "| 4. | [Pakistan - Economic, Social, Environmental, Health, Education, Development and Energy](https://data.humdata.org/dataset/world-bank-combined-indicators-for-pakistan) (Dataset1) (Dataset2)| World Bank Group | \n",
    "\n",
    "\n",
    "---\n",
    "---\n",
    "\n",
    "## 1. stock-exchange-kse-100pakistan\n",
    "\n",
    "Published By: `CHISEL` (Computer-Human Interaction and Social Experience Lab (CHISEL) @ LUMS)\n",
    "\n",
    "Publisher Email: chisel.lums@gmail.com\n",
    "\n",
    "Source: https://www.kaggle.com/zusmani/pakistan-stock-exchange-kse-100\n",
    "\n",
    "Dataset file name: stock-exchange-kse-100pakistan.csv\n",
    "\n",
    "**Description:** \\\n",
    "Here is the first dataset of the Pakistan Stock Exchange (PSX) for the KSE 100 Index gathered from the archives of the Pakistan Stock Exchange (PSX) and Karachi Stock Exchange (KSE) 100 Index.\n",
    "\n",
    "13 years of data with COLUMNS : `date`, `opening` and `closing index`, `total volume`, and `change`.\n",
    "\n",
    "---\n",
    "\n",
    "## 2. Pakistan Largest Ecommerce Dataset\n",
    "\n",
    "Published By: `CHISEL` (Computer-Human Interaction and Social Experience Lab (CHISEL) @ LUMS)\n",
    "\n",
    "Publisher Email: chisel.lums@gmail.com\n",
    "\n",
    "Source : https://www.kaggle.com/zusmani/pakistans-largest-ecommerce-dataset\n",
    "\n",
    "Dataset file name: Pakistan Largest Ecommerce Dataset.csv\n",
    "\n",
    "**Discription:** \\\n",
    "The dataset contains detailed information of half a million e-commerce orders in Pakistan from March 2016 to August 2018. It contains item details, shipping method, payment method like credit card, Easy-Paisa, Jazz-Cash, cash-on-delivery, product categories like fashion, mobile, electronics, appliance, etc., date of order, SKU, price, quantity, total, and customer ID. This is the most detailed dataset about e-commerce in Pakistan that you can find in the Public domain.\n",
    "\n",
    "Variables: The dataset contains `Item ID`, `Order Status (Completed, Cancelled, Refund)`, `Date of Order`, `SKU`, `Price`, `Quantity`, `Grand Total`, `Category`, `Payment Method`, and `Customer ID`.\n",
    "\n",
    "\n",
    "---\n",
    "\n",
    "## 3. Pakistan's Job Market\n",
    "\n",
    "Published By: `CHISEL` (Computer-Human Interaction and Social Experience Lab (CHISEL) @ LUMS)\n",
    "\n",
    "Publisher Email: chisel.lums@gmail.com\n",
    "\n",
    "Source:\thttps://www.kaggle.com/zusmani/pakistans-job-market\n",
    "\n",
    "Dataset file name: pakistan-available-job-dec-19-mar-21.csv\n",
    "\n",
    "**Description:** \\\n",
    "There is a huge shortage of good datasets in Pakistan's job market. This kind of data is always needed for new startups, learning and development companies, education consultants, universities and policymakers. This dataset contains close to 7,000 job openings in Pakistan from December 2019 to March 2021. It contains `job title`, `department`, `required experience in years`, `data posted`, `city of job`, `nature of the job` (full-time, part-time etc.), `job description and the premium label of the job post`.\n",
    "\n",
    "---\n",
    "## 4. Pakistan - Economic, Social, Environmental, Health, Education, Development and Energy\n",
    "\n",
    "Published By : `Nimra Ejaz`\n",
    "\n",
    "Publisher Email : nimra@gallup.com.pk\n",
    "\n",
    "Source : https://data.humdata.org/dataset/world-bank-combined-indicators-for-pakistan\n",
    "\n",
    "Dataset file 1 name: quickcharts-combined-indicators-for-pakistan-1.csv\n",
    "\n",
    "Dataset file 2 name: combined-indicators-for-pakistan-2.csv\n",
    "\n",
    "**Description:** \\\n",
    "Contains data from the World Bank's data portal covering the following topics which also exist as individual datasets on HDX: `Agriculture and Rural Development`, `Aid Effectiveness`, `Economy and Growth`, `Education`, `Energy and Mining`, `Environment`, `Financial Sector`, `Health`, `Infrastructure`, `Social Protection and Labor`, `Poverty`, `Private Sector`, `Public Sector`, `Science and Technology`, `Social Development`, `Urban Development`, `Gender`, `Climate Change`, `External Debt`, `Trade`.\n",
    "\n"
   ]
  },
  {
   "cell_type": "markdown",
   "id": "b8bd1502",
   "metadata": {},
   "source": [
    "---\n",
    "# Next to Apply: \n",
    "\n",
    "`Data wrangling` and `Data Visualization` on these Datasets one by one.\n",
    "\n",
    "---"
   ]
  },
  {
   "cell_type": "markdown",
   "id": "f262aadd",
   "metadata": {},
   "source": [
    "# First Dataset : stock-exchange-kse-100pakistan\n"
   ]
  },
  {
   "cell_type": "markdown",
   "id": "06aa25f0",
   "metadata": {},
   "source": [
    "---\n",
    "This Dataset will be used for **`'Data Wrangling'`** and **`'Data Visualization'`**"
   ]
  },
  {
   "cell_type": "markdown",
   "id": "8fe61109",
   "metadata": {},
   "source": [
    "---\n",
    "### 1.0 About Author\n",
    "- Project: stock-exchange-kse-100pakistan\n",
    "- Author : Saifullah Korai\n",
    "- Author's Contact info:\n",
    "\n",
    "Email : koraisaifullah55@gmail.com\n",
    "\n",
    "Github : https://github.com/solo015\n",
    "\n",
    "Kaggle : [Saifullah15](https://www.kaggle.com/saifullah15)\n",
    "\n",
    "LinkedIn : https://www.linkedin.com/in/saifullah-korai/\n",
    "\n",
    "Medium : https://medium.com/@saifullah.korai.15\n",
    "\n",
    "\n",
    "---\n"
   ]
  },
  {
   "cell_type": "markdown",
   "id": "e5277b71",
   "metadata": {},
   "source": [
    "### 2.0 About Data\n",
    "- Data : Stock exchange KSE-100 Pakistan\n",
    "- Data : 🔗[Link](https://www.kaggle.com/datasets/zusmani/pakistan-stock-exchange-kse-100)"
   ]
  },
  {
   "cell_type": "markdown",
   "id": "705d35b8",
   "metadata": {},
   "source": [
    "### 2.1 Task\n",
    "we intend to conduct an Exploratory Data Analysis (EDA) and Data Visualization on the given dataset. EDA and visualization serve as the basis for the necessary Data wrangling and chart making activities to be carried out the purposes of data cleaning, normalization and insights from the data through visuals. During Coding process we document our observations. Ultimately, we will produce a summary and draw conclusions and insightsfrom our findings."
   ]
  },
  {
   "cell_type": "markdown",
   "id": "0c984d63",
   "metadata": {},
   "source": [
    "### 2.2 Objectives:\n",
    "The primary aim of this project is to conduct a thorough analysis of the dataset to identify significant insights through visuals. The ultimate goal is to project and emphasize customer dynamics and demands to developers and other relevent stakeholders. This will assist in driving more business towards their upcoming applications."
   ]
  },
  {
   "cell_type": "markdown",
   "id": "53355d9f",
   "metadata": {},
   "source": [
    "### 2.3 Kernel Version Used:\n",
    "- Python 3.12.10"
   ]
  },
  {
   "cell_type": "markdown",
   "id": "1d6852ce",
   "metadata": {},
   "source": [
    "### 3.0 Import Libraries\n",
    "- we will use the following libraries\n",
    "    1. Pandas : Data manipulation and analysis library.\n",
    "    2. Numpy : Numerical computing library\n",
    "    3. Matplotlib : Data visualization library.\n",
    "    4. Seaborn: Statistical data visualization library.\n",
    "    5. Plotly : Data animated visualization library.\n",
    "    6. Scipy : To Provide a comprehensive set of numerical algorithms and tools for scientific computing in Python."
   ]
  },
  {
   "cell_type": "code",
   "execution_count": 4,
   "id": "d91fb1d9",
   "metadata": {},
   "outputs": [],
   "source": [
    "import pandas as pd\n",
    "import numpy as np\n",
    "\n",
    "# visualization libraries\n",
    "import seaborn as sns\n",
    "import matplotlib.pyplot as plt\n",
    "import plotly.express as px\n",
    "\n",
    "# for scientific and statistical computing\n",
    "import scipy as sp \n",
    "\n",
    "%matplotlib inline"
   ]
  },
  {
   "cell_type": "markdown",
   "id": "2bec6f58",
   "metadata": {},
   "source": [
    "### 4.0 Data Loading, Exploration & Wrangling\n",
    "we will proceed as follow:\n",
    "\n",
    "#### 4.1 Load the csv file with the pandas\n",
    "\n",
    "#### 4.2 Creating the dataframe and understanding the data present in the dataset\n",
    "\n",
    "#### 4.3 Dealing with missing data and the incorrect records"
   ]
  }
 ],
 "metadata": {
  "kernelspec": {
   "display_name": "myenv",
   "language": "python",
   "name": "python3"
  },
  "language_info": {
   "codemirror_mode": {
    "name": "ipython",
    "version": 3
   },
   "file_extension": ".py",
   "mimetype": "text/x-python",
   "name": "python",
   "nbconvert_exporter": "python",
   "pygments_lexer": "ipython3",
   "version": "3.12.10"
  }
 },
 "nbformat": 4,
 "nbformat_minor": 5
}
