{
 "cells": [
  {
   "cell_type": "markdown",
   "id": "0fcfed1a",
   "metadata": {},
   "source": [
    "# Sunburst plot to show Heirarchy values"
   ]
  },
  {
   "cell_type": "code",
   "execution_count": 1,
   "id": "d3e7cf2f",
   "metadata": {},
   "outputs": [],
   "source": [
    "# create sunburst plot on titanic dataset\n",
    "import plotly.express as px\n",
    "import seaborn as sns\n",
    "\n",
    "# load Titanic dataset\n",
    "df = sns.load_dataset('titanic')\n",
    "\n",
    "# Create a sunburst plot\n",
    "fig = px.sunburst(df, \n",
    "path= ['sex', 'class', 'who', 'alive', 'alone'], \n",
    "values = 'survived', color = 'sex')\n",
    "\n",
    "# show the plot\n",
    "# fig.show()"
   ]
  },
  {
   "cell_type": "code",
   "execution_count": 6,
   "id": "54cc1fee",
   "metadata": {},
   "outputs": [
    {
     "data": {
      "text/html": [
       "<div>\n",
       "<style scoped>\n",
       "    .dataframe tbody tr th:only-of-type {\n",
       "        vertical-align: middle;\n",
       "    }\n",
       "\n",
       "    .dataframe tbody tr th {\n",
       "        vertical-align: top;\n",
       "    }\n",
       "\n",
       "    .dataframe thead th {\n",
       "        text-align: right;\n",
       "    }\n",
       "</style>\n",
       "<table border=\"1\" class=\"dataframe\">\n",
       "  <thead>\n",
       "    <tr style=\"text-align: right;\">\n",
       "      <th></th>\n",
       "      <th>total_bill</th>\n",
       "      <th>tip</th>\n",
       "      <th>sex</th>\n",
       "      <th>smoker</th>\n",
       "      <th>day</th>\n",
       "      <th>time</th>\n",
       "      <th>size</th>\n",
       "    </tr>\n",
       "  </thead>\n",
       "  <tbody>\n",
       "    <tr>\n",
       "      <th>0</th>\n",
       "      <td>16.99</td>\n",
       "      <td>1.01</td>\n",
       "      <td>Female</td>\n",
       "      <td>No</td>\n",
       "      <td>Sun</td>\n",
       "      <td>Dinner</td>\n",
       "      <td>2</td>\n",
       "    </tr>\n",
       "    <tr>\n",
       "      <th>1</th>\n",
       "      <td>10.34</td>\n",
       "      <td>1.66</td>\n",
       "      <td>Male</td>\n",
       "      <td>No</td>\n",
       "      <td>Sun</td>\n",
       "      <td>Dinner</td>\n",
       "      <td>3</td>\n",
       "    </tr>\n",
       "    <tr>\n",
       "      <th>2</th>\n",
       "      <td>21.01</td>\n",
       "      <td>3.50</td>\n",
       "      <td>Male</td>\n",
       "      <td>No</td>\n",
       "      <td>Sun</td>\n",
       "      <td>Dinner</td>\n",
       "      <td>3</td>\n",
       "    </tr>\n",
       "    <tr>\n",
       "      <th>3</th>\n",
       "      <td>23.68</td>\n",
       "      <td>3.31</td>\n",
       "      <td>Male</td>\n",
       "      <td>No</td>\n",
       "      <td>Sun</td>\n",
       "      <td>Dinner</td>\n",
       "      <td>2</td>\n",
       "    </tr>\n",
       "    <tr>\n",
       "      <th>4</th>\n",
       "      <td>24.59</td>\n",
       "      <td>3.61</td>\n",
       "      <td>Female</td>\n",
       "      <td>No</td>\n",
       "      <td>Sun</td>\n",
       "      <td>Dinner</td>\n",
       "      <td>4</td>\n",
       "    </tr>\n",
       "  </tbody>\n",
       "</table>\n",
       "</div>"
      ],
      "text/plain": [
       "   total_bill   tip     sex smoker  day    time  size\n",
       "0       16.99  1.01  Female     No  Sun  Dinner     2\n",
       "1       10.34  1.66    Male     No  Sun  Dinner     3\n",
       "2       21.01  3.50    Male     No  Sun  Dinner     3\n",
       "3       23.68  3.31    Male     No  Sun  Dinner     2\n",
       "4       24.59  3.61  Female     No  Sun  Dinner     4"
      ]
     },
     "execution_count": 6,
     "metadata": {},
     "output_type": "execute_result"
    }
   ],
   "source": [
    "# create sunburst plot on titanic dataset\n",
    "import plotly.express as px\n",
    "import seaborn as sns\n",
    "\n",
    "tips = sns.load_dataset('tips')\n",
    "\n",
    "tips.head()"
   ]
  },
  {
   "cell_type": "code",
   "execution_count": 65,
   "id": "e795c252",
   "metadata": {},
   "outputs": [
    {
     "data": {
      "application/vnd.plotly.v1+json": {
       "config": {
        "plotlyServerURL": "https://plot.ly"
       },
       "data": [
        {
         "branchvalues": "total",
         "domain": {
          "x": [
           0,
           1
          ],
          "y": [
           0,
           1
          ]
         },
         "hovertemplate": "labels=%{label}<br>tip=%{value}<br>parent=%{parent}<br>id=%{id}<extra></extra>",
         "ids": [
          "Female/No/Sun/Dinner",
          "Male/No/Sun/Dinner",
          "Male/No/Sat/Dinner",
          "Female/No/Sat/Dinner",
          "Male/Yes/Sat/Dinner",
          "Female/Yes/Sat/Dinner",
          "Male/No/Thur/Lunch",
          "Male/Yes/Thur/Lunch",
          "Female/No/Thur/Lunch",
          "Male/Yes/Fri/Dinner",
          "Male/No/Fri/Dinner",
          "Female/Yes/Fri/Dinner",
          "Female/No/Fri/Dinner",
          "Female/Yes/Sun/Dinner",
          "Male/Yes/Sun/Dinner",
          "Female/Yes/Thur/Lunch",
          "Male/Yes/Fri/Lunch",
          "Female/Yes/Fri/Lunch",
          "Female/No/Fri/Lunch",
          "Female/No/Thur/Dinner",
          "Female/No/Sun",
          "Male/No/Sun",
          "Male/No/Sat",
          "Female/No/Sat",
          "Male/Yes/Sat",
          "Female/Yes/Sat",
          "Male/No/Thur",
          "Male/Yes/Thur",
          "Female/No/Thur",
          "Male/Yes/Fri",
          "Male/No/Fri",
          "Female/Yes/Fri",
          "Female/No/Fri",
          "Female/Yes/Sun",
          "Male/Yes/Sun",
          "Female/Yes/Thur",
          "Female/No",
          "Male/No",
          "Male/Yes",
          "Female/Yes",
          "Female",
          "Male"
         ],
         "labels": [
          "Dinner",
          "Dinner",
          "Dinner",
          "Dinner",
          "Dinner",
          "Dinner",
          "Lunch",
          "Lunch",
          "Lunch",
          "Dinner",
          "Dinner",
          "Dinner",
          "Dinner",
          "Dinner",
          "Dinner",
          "Lunch",
          "Lunch",
          "Lunch",
          "Lunch",
          "Dinner",
          "Sun",
          "Sun",
          "Sat",
          "Sat",
          "Sat",
          "Sat",
          "Thur",
          "Thur",
          "Thur",
          "Fri",
          "Fri",
          "Fri",
          "Fri",
          "Sun",
          "Sun",
          "Thur",
          "No",
          "No",
          "Yes",
          "Yes",
          "Female",
          "Male"
         ],
         "name": "",
         "parents": [
          "Female/No/Sun",
          "Male/No/Sun",
          "Male/No/Sat",
          "Female/No/Sat",
          "Male/Yes/Sat",
          "Female/Yes/Sat",
          "Male/No/Thur",
          "Male/Yes/Thur",
          "Female/No/Thur",
          "Male/Yes/Fri",
          "Male/No/Fri",
          "Female/Yes/Fri",
          "Female/No/Fri",
          "Female/Yes/Sun",
          "Male/Yes/Sun",
          "Female/Yes/Thur",
          "Male/Yes/Fri",
          "Female/Yes/Fri",
          "Female/No/Fri",
          "Female/No/Thur",
          "Female/No",
          "Male/No",
          "Male/No",
          "Female/No",
          "Male/Yes",
          "Female/Yes",
          "Male/No",
          "Male/Yes",
          "Female/No",
          "Male/Yes",
          "Male/No",
          "Female/Yes",
          "Female/No",
          "Female/Yes",
          "Male/Yes",
          "Female/Yes",
          "Female",
          "Male",
          "Male",
          "Female",
          "",
          ""
         ],
         "type": "sunburst",
         "values": {
          "bdata": "rkfhehROR0AfhetRuL5gQD4K16NwDVpA9ihcj8K1QUCPwvUoXG9TQKRwPQrXg0VACtejcD1qTUAUrkfhepQ+QB+F61G4Pk1AexSuR+E6MEAAAAAAAAAUQJqZmZmZmSVAAAAAAAAACkAAAAAAAAAsQClcj8L1aEpArkfhehTuNEDNzMzMzMwWQOxRuB6F6x9AAAAAAAAACEAAAAAAAAAIQK5H4XoUTkdAH4XrUbi+YEA+CtejcA1aQPYoXI/CtUFAj8L1KFxvU0CkcD0K14NFQArXo3A9ak1AFK5H4XqUPkAfhetRuL5OQK5H4XoU7jVAAAAAAAAAFEBI4XoUrscyQAAAAAAAABlAAAAAAAAALEApXI/C9WhKQK5H4XoU7jRAcT0K16O4YkAAAAAAAOByQArXo3A94mZAj8L1KFwvWEC4HoXrUdBuQIXrUbgeUX5A",
          "dtype": "f8"
         }
        }
       ],
       "layout": {
        "legend": {
         "tracegroupgap": 0
        },
        "margin": {
         "t": 60
        },
        "template": {
         "data": {
          "bar": [
           {
            "error_x": {
             "color": "#2a3f5f"
            },
            "error_y": {
             "color": "#2a3f5f"
            },
            "marker": {
             "line": {
              "color": "#E5ECF6",
              "width": 0.5
             },
             "pattern": {
              "fillmode": "overlay",
              "size": 10,
              "solidity": 0.2
             }
            },
            "type": "bar"
           }
          ],
          "barpolar": [
           {
            "marker": {
             "line": {
              "color": "#E5ECF6",
              "width": 0.5
             },
             "pattern": {
              "fillmode": "overlay",
              "size": 10,
              "solidity": 0.2
             }
            },
            "type": "barpolar"
           }
          ],
          "carpet": [
           {
            "aaxis": {
             "endlinecolor": "#2a3f5f",
             "gridcolor": "white",
             "linecolor": "white",
             "minorgridcolor": "white",
             "startlinecolor": "#2a3f5f"
            },
            "baxis": {
             "endlinecolor": "#2a3f5f",
             "gridcolor": "white",
             "linecolor": "white",
             "minorgridcolor": "white",
             "startlinecolor": "#2a3f5f"
            },
            "type": "carpet"
           }
          ],
          "choropleth": [
           {
            "colorbar": {
             "outlinewidth": 0,
             "ticks": ""
            },
            "type": "choropleth"
           }
          ],
          "contour": [
           {
            "colorbar": {
             "outlinewidth": 0,
             "ticks": ""
            },
            "colorscale": [
             [
              0,
              "#0d0887"
             ],
             [
              0.1111111111111111,
              "#46039f"
             ],
             [
              0.2222222222222222,
              "#7201a8"
             ],
             [
              0.3333333333333333,
              "#9c179e"
             ],
             [
              0.4444444444444444,
              "#bd3786"
             ],
             [
              0.5555555555555556,
              "#d8576b"
             ],
             [
              0.6666666666666666,
              "#ed7953"
             ],
             [
              0.7777777777777778,
              "#fb9f3a"
             ],
             [
              0.8888888888888888,
              "#fdca26"
             ],
             [
              1,
              "#f0f921"
             ]
            ],
            "type": "contour"
           }
          ],
          "contourcarpet": [
           {
            "colorbar": {
             "outlinewidth": 0,
             "ticks": ""
            },
            "type": "contourcarpet"
           }
          ],
          "heatmap": [
           {
            "colorbar": {
             "outlinewidth": 0,
             "ticks": ""
            },
            "colorscale": [
             [
              0,
              "#0d0887"
             ],
             [
              0.1111111111111111,
              "#46039f"
             ],
             [
              0.2222222222222222,
              "#7201a8"
             ],
             [
              0.3333333333333333,
              "#9c179e"
             ],
             [
              0.4444444444444444,
              "#bd3786"
             ],
             [
              0.5555555555555556,
              "#d8576b"
             ],
             [
              0.6666666666666666,
              "#ed7953"
             ],
             [
              0.7777777777777778,
              "#fb9f3a"
             ],
             [
              0.8888888888888888,
              "#fdca26"
             ],
             [
              1,
              "#f0f921"
             ]
            ],
            "type": "heatmap"
           }
          ],
          "histogram": [
           {
            "marker": {
             "pattern": {
              "fillmode": "overlay",
              "size": 10,
              "solidity": 0.2
             }
            },
            "type": "histogram"
           }
          ],
          "histogram2d": [
           {
            "colorbar": {
             "outlinewidth": 0,
             "ticks": ""
            },
            "colorscale": [
             [
              0,
              "#0d0887"
             ],
             [
              0.1111111111111111,
              "#46039f"
             ],
             [
              0.2222222222222222,
              "#7201a8"
             ],
             [
              0.3333333333333333,
              "#9c179e"
             ],
             [
              0.4444444444444444,
              "#bd3786"
             ],
             [
              0.5555555555555556,
              "#d8576b"
             ],
             [
              0.6666666666666666,
              "#ed7953"
             ],
             [
              0.7777777777777778,
              "#fb9f3a"
             ],
             [
              0.8888888888888888,
              "#fdca26"
             ],
             [
              1,
              "#f0f921"
             ]
            ],
            "type": "histogram2d"
           }
          ],
          "histogram2dcontour": [
           {
            "colorbar": {
             "outlinewidth": 0,
             "ticks": ""
            },
            "colorscale": [
             [
              0,
              "#0d0887"
             ],
             [
              0.1111111111111111,
              "#46039f"
             ],
             [
              0.2222222222222222,
              "#7201a8"
             ],
             [
              0.3333333333333333,
              "#9c179e"
             ],
             [
              0.4444444444444444,
              "#bd3786"
             ],
             [
              0.5555555555555556,
              "#d8576b"
             ],
             [
              0.6666666666666666,
              "#ed7953"
             ],
             [
              0.7777777777777778,
              "#fb9f3a"
             ],
             [
              0.8888888888888888,
              "#fdca26"
             ],
             [
              1,
              "#f0f921"
             ]
            ],
            "type": "histogram2dcontour"
           }
          ],
          "mesh3d": [
           {
            "colorbar": {
             "outlinewidth": 0,
             "ticks": ""
            },
            "type": "mesh3d"
           }
          ],
          "parcoords": [
           {
            "line": {
             "colorbar": {
              "outlinewidth": 0,
              "ticks": ""
             }
            },
            "type": "parcoords"
           }
          ],
          "pie": [
           {
            "automargin": true,
            "type": "pie"
           }
          ],
          "scatter": [
           {
            "fillpattern": {
             "fillmode": "overlay",
             "size": 10,
             "solidity": 0.2
            },
            "type": "scatter"
           }
          ],
          "scatter3d": [
           {
            "line": {
             "colorbar": {
              "outlinewidth": 0,
              "ticks": ""
             }
            },
            "marker": {
             "colorbar": {
              "outlinewidth": 0,
              "ticks": ""
             }
            },
            "type": "scatter3d"
           }
          ],
          "scattercarpet": [
           {
            "marker": {
             "colorbar": {
              "outlinewidth": 0,
              "ticks": ""
             }
            },
            "type": "scattercarpet"
           }
          ],
          "scattergeo": [
           {
            "marker": {
             "colorbar": {
              "outlinewidth": 0,
              "ticks": ""
             }
            },
            "type": "scattergeo"
           }
          ],
          "scattergl": [
           {
            "marker": {
             "colorbar": {
              "outlinewidth": 0,
              "ticks": ""
             }
            },
            "type": "scattergl"
           }
          ],
          "scattermap": [
           {
            "marker": {
             "colorbar": {
              "outlinewidth": 0,
              "ticks": ""
             }
            },
            "type": "scattermap"
           }
          ],
          "scattermapbox": [
           {
            "marker": {
             "colorbar": {
              "outlinewidth": 0,
              "ticks": ""
             }
            },
            "type": "scattermapbox"
           }
          ],
          "scatterpolar": [
           {
            "marker": {
             "colorbar": {
              "outlinewidth": 0,
              "ticks": ""
             }
            },
            "type": "scatterpolar"
           }
          ],
          "scatterpolargl": [
           {
            "marker": {
             "colorbar": {
              "outlinewidth": 0,
              "ticks": ""
             }
            },
            "type": "scatterpolargl"
           }
          ],
          "scatterternary": [
           {
            "marker": {
             "colorbar": {
              "outlinewidth": 0,
              "ticks": ""
             }
            },
            "type": "scatterternary"
           }
          ],
          "surface": [
           {
            "colorbar": {
             "outlinewidth": 0,
             "ticks": ""
            },
            "colorscale": [
             [
              0,
              "#0d0887"
             ],
             [
              0.1111111111111111,
              "#46039f"
             ],
             [
              0.2222222222222222,
              "#7201a8"
             ],
             [
              0.3333333333333333,
              "#9c179e"
             ],
             [
              0.4444444444444444,
              "#bd3786"
             ],
             [
              0.5555555555555556,
              "#d8576b"
             ],
             [
              0.6666666666666666,
              "#ed7953"
             ],
             [
              0.7777777777777778,
              "#fb9f3a"
             ],
             [
              0.8888888888888888,
              "#fdca26"
             ],
             [
              1,
              "#f0f921"
             ]
            ],
            "type": "surface"
           }
          ],
          "table": [
           {
            "cells": {
             "fill": {
              "color": "#EBF0F8"
             },
             "line": {
              "color": "white"
             }
            },
            "header": {
             "fill": {
              "color": "#C8D4E3"
             },
             "line": {
              "color": "white"
             }
            },
            "type": "table"
           }
          ]
         },
         "layout": {
          "annotationdefaults": {
           "arrowcolor": "#2a3f5f",
           "arrowhead": 0,
           "arrowwidth": 1
          },
          "autotypenumbers": "strict",
          "coloraxis": {
           "colorbar": {
            "outlinewidth": 0,
            "ticks": ""
           }
          },
          "colorscale": {
           "diverging": [
            [
             0,
             "#8e0152"
            ],
            [
             0.1,
             "#c51b7d"
            ],
            [
             0.2,
             "#de77ae"
            ],
            [
             0.3,
             "#f1b6da"
            ],
            [
             0.4,
             "#fde0ef"
            ],
            [
             0.5,
             "#f7f7f7"
            ],
            [
             0.6,
             "#e6f5d0"
            ],
            [
             0.7,
             "#b8e186"
            ],
            [
             0.8,
             "#7fbc41"
            ],
            [
             0.9,
             "#4d9221"
            ],
            [
             1,
             "#276419"
            ]
           ],
           "sequential": [
            [
             0,
             "#0d0887"
            ],
            [
             0.1111111111111111,
             "#46039f"
            ],
            [
             0.2222222222222222,
             "#7201a8"
            ],
            [
             0.3333333333333333,
             "#9c179e"
            ],
            [
             0.4444444444444444,
             "#bd3786"
            ],
            [
             0.5555555555555556,
             "#d8576b"
            ],
            [
             0.6666666666666666,
             "#ed7953"
            ],
            [
             0.7777777777777778,
             "#fb9f3a"
            ],
            [
             0.8888888888888888,
             "#fdca26"
            ],
            [
             1,
             "#f0f921"
            ]
           ],
           "sequentialminus": [
            [
             0,
             "#0d0887"
            ],
            [
             0.1111111111111111,
             "#46039f"
            ],
            [
             0.2222222222222222,
             "#7201a8"
            ],
            [
             0.3333333333333333,
             "#9c179e"
            ],
            [
             0.4444444444444444,
             "#bd3786"
            ],
            [
             0.5555555555555556,
             "#d8576b"
            ],
            [
             0.6666666666666666,
             "#ed7953"
            ],
            [
             0.7777777777777778,
             "#fb9f3a"
            ],
            [
             0.8888888888888888,
             "#fdca26"
            ],
            [
             1,
             "#f0f921"
            ]
           ]
          },
          "colorway": [
           "#636efa",
           "#EF553B",
           "#00cc96",
           "#ab63fa",
           "#FFA15A",
           "#19d3f3",
           "#FF6692",
           "#B6E880",
           "#FF97FF",
           "#FECB52"
          ],
          "font": {
           "color": "#2a3f5f"
          },
          "geo": {
           "bgcolor": "white",
           "lakecolor": "white",
           "landcolor": "#E5ECF6",
           "showlakes": true,
           "showland": true,
           "subunitcolor": "white"
          },
          "hoverlabel": {
           "align": "left"
          },
          "hovermode": "closest",
          "mapbox": {
           "style": "light"
          },
          "paper_bgcolor": "white",
          "plot_bgcolor": "#E5ECF6",
          "polar": {
           "angularaxis": {
            "gridcolor": "white",
            "linecolor": "white",
            "ticks": ""
           },
           "bgcolor": "#E5ECF6",
           "radialaxis": {
            "gridcolor": "white",
            "linecolor": "white",
            "ticks": ""
           }
          },
          "scene": {
           "xaxis": {
            "backgroundcolor": "#E5ECF6",
            "gridcolor": "white",
            "gridwidth": 2,
            "linecolor": "white",
            "showbackground": true,
            "ticks": "",
            "zerolinecolor": "white"
           },
           "yaxis": {
            "backgroundcolor": "#E5ECF6",
            "gridcolor": "white",
            "gridwidth": 2,
            "linecolor": "white",
            "showbackground": true,
            "ticks": "",
            "zerolinecolor": "white"
           },
           "zaxis": {
            "backgroundcolor": "#E5ECF6",
            "gridcolor": "white",
            "gridwidth": 2,
            "linecolor": "white",
            "showbackground": true,
            "ticks": "",
            "zerolinecolor": "white"
           }
          },
          "shapedefaults": {
           "line": {
            "color": "#2a3f5f"
           }
          },
          "ternary": {
           "aaxis": {
            "gridcolor": "white",
            "linecolor": "white",
            "ticks": ""
           },
           "baxis": {
            "gridcolor": "white",
            "linecolor": "white",
            "ticks": ""
           },
           "bgcolor": "#E5ECF6",
           "caxis": {
            "gridcolor": "white",
            "linecolor": "white",
            "ticks": ""
           }
          },
          "title": {
           "x": 0.05
          },
          "xaxis": {
           "automargin": true,
           "gridcolor": "white",
           "linecolor": "white",
           "ticks": "",
           "title": {
            "standoff": 15
           },
           "zerolinecolor": "white",
           "zerolinewidth": 2
          },
          "yaxis": {
           "automargin": true,
           "gridcolor": "white",
           "linecolor": "white",
           "ticks": "",
           "title": {
            "standoff": 15
           },
           "zerolinecolor": "white",
           "zerolinewidth": 2
          }
         }
        }
       }
      }
     },
     "metadata": {},
     "output_type": "display_data"
    }
   ],
   "source": [
    "fig1 = px.sunburst(tips, path=['sex','smoker','day','time'], values='tip')\n",
    "\n",
    "# show the plot\n",
    "fig1.show()"
   ]
  },
  {
   "cell_type": "markdown",
   "id": "df07d977",
   "metadata": {},
   "source": [
    "## Assignment\n",
    "How can we add more values when we hover the pointer on the plot"
   ]
  },
  {
   "cell_type": "code",
   "execution_count": 70,
   "id": "3f3647ca",
   "metadata": {},
   "outputs": [
    {
     "data": {
      "application/vnd.plotly.v1+json": {
       "config": {
        "plotlyServerURL": "https://plot.ly"
       },
       "data": [
        {
         "branchvalues": "total",
         "customdata": {
          "bdata": "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",
          "dtype": "f8",
          "shape": "584, 1"
         },
         "domain": {
          "x": [
           0,
           1
          ],
          "y": [
           0,
           1
          ]
         },
         "hovertemplate": "labels=%{label}<br>size_sum=%{value}<br>parent=%{parent}<br>id=%{id}<br>size=%{color}<extra></extra>",
         "ids": [
          "Female/No/Sun/Dinner/2/16.99/1.01",
          "Male/No/Sun/Dinner/3/10.34/1.66",
          "Male/No/Sun/Dinner/3/21.01/3.5",
          "Male/No/Sun/Dinner/2/23.68/3.31",
          "Female/No/Sun/Dinner/4/24.59/3.61",
          "Male/No/Sun/Dinner/4/25.29/4.71",
          "Male/No/Sun/Dinner/2/8.77/2.0",
          "Male/No/Sun/Dinner/4/26.88/3.12",
          "Male/No/Sun/Dinner/2/15.04/1.96",
          "Male/No/Sun/Dinner/2/14.78/3.23",
          "Male/No/Sun/Dinner/2/10.27/1.71",
          "Female/No/Sun/Dinner/4/35.26/5.0",
          "Male/No/Sun/Dinner/2/15.42/1.57",
          "Male/No/Sun/Dinner/4/18.43/3.0",
          "Female/No/Sun/Dinner/2/14.83/3.02",
          "Male/No/Sun/Dinner/2/21.58/3.92",
          "Female/No/Sun/Dinner/3/10.33/1.67",
          "Male/No/Sun/Dinner/3/16.29/3.71",
          "Female/No/Sun/Dinner/3/16.97/3.5",
          "Male/No/Sat/Dinner/3/20.65/3.35",
          "Male/No/Sat/Dinner/2/17.92/4.08",
          "Female/No/Sat/Dinner/2/20.29/2.75",
          "Female/No/Sat/Dinner/2/15.77/2.23",
          "Male/No/Sat/Dinner/4/39.42/7.58",
          "Male/No/Sat/Dinner/2/19.82/3.18",
          "Male/No/Sat/Dinner/4/17.81/2.34",
          "Male/No/Sat/Dinner/2/13.37/2.0",
          "Male/No/Sat/Dinner/2/12.69/2.0",
          "Male/No/Sat/Dinner/2/21.7/4.3",
          "Female/No/Sat/Dinner/2/19.65/3.0",
          "Male/No/Sat/Dinner/2/9.55/1.45",
          "Male/No/Sat/Dinner/4/18.35/2.5",
          "Female/No/Sat/Dinner/2/15.06/3.0",
          "Female/No/Sat/Dinner/4/20.69/2.45",
          "Male/No/Sat/Dinner/2/17.78/3.27",
          "Male/No/Sat/Dinner/3/24.06/3.6",
          "Male/No/Sat/Dinner/3/16.31/2.0",
          "Female/No/Sat/Dinner/3/16.93/3.07",
          "Male/No/Sat/Dinner/3/18.69/2.31",
          "Male/No/Sat/Dinner/3/31.27/5.0",
          "Male/No/Sat/Dinner/3/16.04/2.24",
          "Male/No/Sun/Dinner/2/17.46/2.54",
          "Male/No/Sun/Dinner/2/13.94/3.06",
          "Male/No/Sun/Dinner/2/9.68/1.32",
          "Male/No/Sun/Dinner/4/30.4/5.6",
          "Male/No/Sun/Dinner/2/18.29/3.0",
          "Male/No/Sun/Dinner/2/22.23/5.0",
          "Male/No/Sun/Dinner/4/32.4/6.0",
          "Male/No/Sun/Dinner/3/28.55/2.05",
          "Male/No/Sun/Dinner/2/18.04/3.0",
          "Male/No/Sun/Dinner/2/12.54/2.5",
          "Female/No/Sun/Dinner/2/10.29/2.6",
          "Female/No/Sun/Dinner/4/34.81/5.2",
          "Male/No/Sun/Dinner/2/9.94/1.56",
          "Male/No/Sun/Dinner/4/25.56/4.34",
          "Male/No/Sun/Dinner/2/19.49/3.51",
          "Male/Yes/Sat/Dinner/4/38.01/3.0",
          "Female/No/Sat/Dinner/2/26.41/1.5",
          "Male/Yes/Sat/Dinner/2/11.24/1.76",
          "Male/No/Sat/Dinner/4/48.27/6.73",
          "Male/Yes/Sat/Dinner/2/20.29/3.21",
          "Male/Yes/Sat/Dinner/2/13.81/2.0",
          "Male/Yes/Sat/Dinner/2/11.02/1.98",
          "Male/Yes/Sat/Dinner/4/18.29/3.76",
          "Male/No/Sat/Dinner/3/17.59/2.64",
          "Male/No/Sat/Dinner/3/20.08/3.15",
          "Female/No/Sat/Dinner/2/16.45/2.47",
          "Female/Yes/Sat/Dinner/1/3.07/1.0",
          "Male/No/Sat/Dinner/2/20.23/2.01",
          "Male/Yes/Sat/Dinner/2/15.01/2.09",
          "Male/No/Sat/Dinner/2/12.02/1.97",
          "Female/No/Sat/Dinner/3/17.07/3.0",
          "Female/Yes/Sat/Dinner/2/26.86/3.14",
          "Female/Yes/Sat/Dinner/2/25.28/5.0",
          "Female/No/Sat/Dinner/2/14.73/2.2",
          "Male/No/Sat/Dinner/2/10.51/1.25",
          "Male/Yes/Sat/Dinner/2/17.92/3.08",
          "Male/No/Thur/Lunch/4/27.2/4.0",
          "Male/No/Thur/Lunch/2/22.76/3.0",
          "Male/No/Thur/Lunch/2/17.29/2.71",
          "Male/Yes/Thur/Lunch/2/19.44/3.0",
          "Male/No/Thur/Lunch/2/16.66/3.4",
          "Female/No/Thur/Lunch/1/10.07/1.83",
          "Male/Yes/Thur/Lunch/2/32.68/5.0",
          "Male/No/Thur/Lunch/2/15.98/2.03",
          "Female/No/Thur/Lunch/4/34.83/5.17",
          "Male/No/Thur/Lunch/2/13.03/2.0",
          "Male/No/Thur/Lunch/2/18.28/4.0",
          "Male/No/Thur/Lunch/2/24.71/5.85",
          "Male/No/Thur/Lunch/2/21.16/3.0",
          "Male/Yes/Fri/Dinner/2/28.97/3.0",
          "Male/No/Fri/Dinner/2/22.49/3.5",
          "Female/Yes/Fri/Dinner/2/5.75/1.0",
          "Female/Yes/Fri/Dinner/2/16.32/4.3",
          "Female/No/Fri/Dinner/2/22.75/3.25",
          "Male/Yes/Fri/Dinner/4/40.17/4.73",
          "Male/Yes/Fri/Dinner/2/27.28/4.0",
          "Male/Yes/Fri/Dinner/2/12.03/1.5",
          "Male/Yes/Fri/Dinner/2/21.01/3.0",
          "Male/No/Fri/Dinner/2/12.46/1.5",
          "Female/Yes/Fri/Dinner/2/11.35/2.5",
          "Female/Yes/Fri/Dinner/2/15.38/3.0",
          "Female/Yes/Sat/Dinner/3/44.3/2.5",
          "Female/Yes/Sat/Dinner/2/22.42/3.48",
          "Female/No/Sat/Dinner/2/20.92/4.08",
          "Male/Yes/Sat/Dinner/2/15.36/1.64",
          "Male/Yes/Sat/Dinner/2/20.49/4.06",
          "Male/Yes/Sat/Dinner/2/25.21/4.29",
          "Male/No/Sat/Dinner/2/18.24/3.76",
          "Female/Yes/Sat/Dinner/2/14.31/4.0",
          "Male/No/Sat/Dinner/2/14.0/3.0",
          "Female/No/Sat/Dinner/1/7.25/1.0",
          "Male/No/Sun/Dinner/3/38.07/4.0",
          "Male/No/Sun/Dinner/2/23.95/2.55",
          "Female/No/Sun/Dinner/3/25.71/4.0",
          "Female/No/Sun/Dinner/2/17.31/3.5",
          "Male/No/Sun/Dinner/4/29.93/5.07",
          "Female/No/Thur/Lunch/2/10.65/1.5",
          "Female/No/Thur/Lunch/2/12.43/1.8",
          "Female/No/Thur/Lunch/4/24.08/2.92",
          "Male/No/Thur/Lunch/2/11.69/2.31",
          "Female/No/Thur/Lunch/2/13.42/1.68",
          "Male/No/Thur/Lunch/2/14.26/2.5",
          "Male/No/Thur/Lunch/2/15.95/2.0",
          "Female/No/Thur/Lunch/2/12.48/2.52",
          "Female/No/Thur/Lunch/6/29.8/4.2",
          "Male/No/Thur/Lunch/2/8.52/1.48",
          "Female/No/Thur/Lunch/2/14.52/2.0",
          "Female/No/Thur/Lunch/2/11.38/2.0",
          "Male/No/Thur/Lunch/3/22.82/2.18",
          "Male/No/Thur/Lunch/2/19.08/1.5",
          "Female/No/Thur/Lunch/2/20.27/2.83",
          "Female/No/Thur/Lunch/2/11.17/1.5",
          "Female/No/Thur/Lunch/2/12.26/2.0",
          "Female/No/Thur/Lunch/2/18.26/3.25",
          "Female/No/Thur/Lunch/2/8.51/1.25",
          "Female/No/Thur/Lunch/2/10.33/2.0",
          "Female/No/Thur/Lunch/2/14.15/2.0",
          "Male/Yes/Thur/Lunch/2/16.0/2.0",
          "Female/No/Thur/Lunch/2/13.16/2.75",
          "Female/No/Thur/Lunch/2/17.47/3.5",
          "Male/No/Thur/Lunch/6/34.3/6.7",
          "Male/No/Thur/Lunch/5/41.19/5.0",
          "Female/No/Thur/Lunch/6/27.05/5.0",
          "Female/No/Thur/Lunch/2/16.43/2.3",
          "Female/No/Thur/Lunch/2/8.35/1.5",
          "Female/No/Thur/Lunch/3/18.64/1.36",
          "Female/No/Thur/Lunch/2/11.87/1.63",
          "Male/No/Thur/Lunch/2/9.78/1.73",
          "Male/No/Thur/Lunch/2/7.51/2.0",
          "Male/No/Sun/Dinner/2/14.07/2.5",
          "Male/No/Sun/Dinner/2/13.13/2.0",
          "Male/No/Sun/Dinner/3/17.26/2.74",
          "Male/No/Sun/Dinner/4/24.55/2.0",
          "Male/No/Sun/Dinner/4/19.77/2.0",
          "Female/No/Sun/Dinner/5/29.85/5.14",
          "Male/No/Sun/Dinner/6/48.17/5.0",
          "Female/No/Sun/Dinner/4/25.0/3.75",
          "Female/No/Sun/Dinner/2/13.39/2.61",
          "Male/No/Sun/Dinner/4/16.49/2.0",
          "Male/No/Sun/Dinner/4/21.5/3.5",
          "Male/No/Sun/Dinner/2/12.66/2.5",
          "Female/No/Sun/Dinner/3/16.21/2.0",
          "Male/No/Sun/Dinner/2/13.81/2.0",
          "Female/Yes/Sun/Dinner/2/17.51/3.0",
          "Male/No/Sun/Dinner/3/24.52/3.48",
          "Male/No/Sun/Dinner/2/20.76/2.24",
          "Male/No/Sun/Dinner/4/31.71/4.5",
          "Female/Yes/Sat/Dinner/2/10.59/1.61",
          "Female/Yes/Sat/Dinner/2/10.63/2.0",
          "Male/Yes/Sat/Dinner/3/50.81/10.0",
          "Male/Yes/Sat/Dinner/2/15.81/3.16",
          "Male/Yes/Sun/Dinner/2/7.25/5.15",
          "Male/Yes/Sun/Dinner/2/31.85/3.18",
          "Male/Yes/Sun/Dinner/2/16.82/4.0",
          "Male/Yes/Sun/Dinner/2/32.9/3.11",
          "Male/Yes/Sun/Dinner/2/17.89/2.0",
          "Male/Yes/Sun/Dinner/2/14.48/2.0",
          "Female/Yes/Sun/Dinner/2/9.6/4.0",
          "Male/Yes/Sun/Dinner/2/34.63/3.55",
          "Male/Yes/Sun/Dinner/4/34.65/3.68",
          "Male/Yes/Sun/Dinner/2/23.33/5.65",
          "Male/Yes/Sun/Dinner/3/45.35/3.5",
          "Male/Yes/Sun/Dinner/4/23.17/6.5",
          "Male/Yes/Sun/Dinner/2/40.55/3.0",
          "Male/No/Sun/Dinner/5/20.69/5.0",
          "Female/Yes/Sun/Dinner/3/20.9/3.5",
          "Male/Yes/Sun/Dinner/5/30.46/2.0",
          "Female/Yes/Sun/Dinner/3/18.15/3.5",
          "Male/Yes/Sun/Dinner/3/23.1/4.0",
          "Male/Yes/Sun/Dinner/2/15.69/1.5",
          "Female/Yes/Thur/Lunch/2/19.81/4.19",
          "Male/Yes/Thur/Lunch/2/28.44/2.56",
          "Male/Yes/Thur/Lunch/2/15.48/2.02",
          "Male/Yes/Thur/Lunch/2/16.58/4.0",
          "Male/No/Thur/Lunch/2/7.56/1.44",
          "Male/Yes/Thur/Lunch/2/10.34/2.0",
          "Female/Yes/Thur/Lunch/4/43.11/5.0",
          "Female/Yes/Thur/Lunch/2/13.0/2.0",
          "Male/Yes/Thur/Lunch/2/13.51/2.0",
          "Male/Yes/Thur/Lunch/3/18.71/4.0",
          "Female/Yes/Thur/Lunch/2/12.74/2.01",
          "Female/Yes/Thur/Lunch/2/16.4/2.5",
          "Male/Yes/Thur/Lunch/4/20.53/4.0",
          "Female/Yes/Thur/Lunch/3/16.47/3.23",
          "Male/Yes/Sat/Dinner/3/26.59/3.41",
          "Male/Yes/Sat/Dinner/4/38.73/3.0",
          "Male/Yes/Sat/Dinner/2/24.27/2.03",
          "Female/Yes/Sat/Dinner/2/12.76/2.23",
          "Male/Yes/Sat/Dinner/3/30.06/2.0",
          "Male/Yes/Sat/Dinner/4/25.89/5.16",
          "Male/No/Sat/Dinner/4/48.33/9.0",
          "Female/Yes/Sat/Dinner/2/13.27/2.5",
          "Female/Yes/Sat/Dinner/3/28.17/6.5",
          "Female/Yes/Sat/Dinner/2/12.9/1.1",
          "Male/Yes/Sat/Dinner/5/28.15/3.0",
          "Male/Yes/Sat/Dinner/2/11.59/1.5",
          "Male/Yes/Sat/Dinner/2/7.74/1.44",
          "Female/Yes/Sat/Dinner/4/30.14/3.09",
          "Male/Yes/Fri/Lunch/2/12.16/2.2",
          "Female/Yes/Fri/Lunch/2/13.42/3.48",
          "Male/Yes/Fri/Lunch/1/8.58/1.92",
          "Female/No/Fri/Lunch/3/15.98/3.0",
          "Male/Yes/Fri/Lunch/2/13.42/1.58",
          "Female/Yes/Fri/Lunch/2/16.27/2.5",
          "Female/Yes/Fri/Lunch/2/10.09/2.0",
          "Male/No/Sat/Dinner/4/20.45/3.0",
          "Male/No/Sat/Dinner/2/13.28/2.72",
          "Female/Yes/Sat/Dinner/2/22.12/2.88",
          "Male/Yes/Sat/Dinner/4/24.01/2.0",
          "Male/Yes/Sat/Dinner/3/15.69/3.0",
          "Male/No/Sat/Dinner/2/11.61/3.39",
          "Male/No/Sat/Dinner/2/10.77/1.47",
          "Male/Yes/Sat/Dinner/2/15.53/3.0",
          "Male/No/Sat/Dinner/2/10.07/1.25",
          "Male/Yes/Sat/Dinner/2/12.6/1.0",
          "Male/Yes/Sat/Dinner/2/32.83/1.17",
          "Female/No/Sat/Dinner/3/35.83/4.67",
          "Male/No/Sat/Dinner/3/29.03/5.92",
          "Female/Yes/Sat/Dinner/2/27.18/2.0",
          "Male/Yes/Sat/Dinner/2/22.67/2.0",
          "Male/No/Sat/Dinner/2/17.82/1.75",
          "Female/No/Thur/Dinner/2/18.78/3.0",
          "Female/No/Sun/Dinner/2/16.99",
          "Male/No/Sun/Dinner/3/10.34",
          "Male/No/Sun/Dinner/3/21.01",
          "Male/No/Sun/Dinner/2/23.68",
          "Female/No/Sun/Dinner/4/24.59",
          "Male/No/Sun/Dinner/4/25.29",
          "Male/No/Sun/Dinner/2/8.77",
          "Male/No/Sun/Dinner/4/26.88",
          "Male/No/Sun/Dinner/2/15.04",
          "Male/No/Sun/Dinner/2/14.78",
          "Male/No/Sun/Dinner/2/10.27",
          "Female/No/Sun/Dinner/4/35.26",
          "Male/No/Sun/Dinner/2/15.42",
          "Male/No/Sun/Dinner/4/18.43",
          "Female/No/Sun/Dinner/2/14.83",
          "Male/No/Sun/Dinner/2/21.58",
          "Female/No/Sun/Dinner/3/10.33",
          "Male/No/Sun/Dinner/3/16.29",
          "Female/No/Sun/Dinner/3/16.97",
          "Male/No/Sat/Dinner/3/20.65",
          "Male/No/Sat/Dinner/2/17.92",
          "Female/No/Sat/Dinner/2/20.29",
          "Female/No/Sat/Dinner/2/15.77",
          "Male/No/Sat/Dinner/4/39.42",
          "Male/No/Sat/Dinner/2/19.82",
          "Male/No/Sat/Dinner/4/17.81",
          "Male/No/Sat/Dinner/2/13.37",
          "Male/No/Sat/Dinner/2/12.69",
          "Male/No/Sat/Dinner/2/21.7",
          "Female/No/Sat/Dinner/2/19.65",
          "Male/No/Sat/Dinner/2/9.55",
          "Male/No/Sat/Dinner/4/18.35",
          "Female/No/Sat/Dinner/2/15.06",
          "Female/No/Sat/Dinner/4/20.69",
          "Male/No/Sat/Dinner/2/17.78",
          "Male/No/Sat/Dinner/3/24.06",
          "Male/No/Sat/Dinner/3/16.31",
          "Female/No/Sat/Dinner/3/16.93",
          "Male/No/Sat/Dinner/3/18.69",
          "Male/No/Sat/Dinner/3/31.27",
          "Male/No/Sat/Dinner/3/16.04",
          "Male/No/Sun/Dinner/2/17.46",
          "Male/No/Sun/Dinner/2/13.94",
          "Male/No/Sun/Dinner/2/9.68",
          "Male/No/Sun/Dinner/4/30.4",
          "Male/No/Sun/Dinner/2/18.29",
          "Male/No/Sun/Dinner/2/22.23",
          "Male/No/Sun/Dinner/4/32.4",
          "Male/No/Sun/Dinner/3/28.55",
          "Male/No/Sun/Dinner/2/18.04",
          "Male/No/Sun/Dinner/2/12.54",
          "Female/No/Sun/Dinner/2/10.29",
          "Female/No/Sun/Dinner/4/34.81",
          "Male/No/Sun/Dinner/2/9.94",
          "Male/No/Sun/Dinner/4/25.56",
          "Male/No/Sun/Dinner/2/19.49",
          "Male/Yes/Sat/Dinner/4/38.01",
          "Female/No/Sat/Dinner/2/26.41",
          "Male/Yes/Sat/Dinner/2/11.24",
          "Male/No/Sat/Dinner/4/48.27",
          "Male/Yes/Sat/Dinner/2/20.29",
          "Male/Yes/Sat/Dinner/2/13.81",
          "Male/Yes/Sat/Dinner/2/11.02",
          "Male/Yes/Sat/Dinner/4/18.29",
          "Male/No/Sat/Dinner/3/17.59",
          "Male/No/Sat/Dinner/3/20.08",
          "Female/No/Sat/Dinner/2/16.45",
          "Female/Yes/Sat/Dinner/1/3.07",
          "Male/No/Sat/Dinner/2/20.23",
          "Male/Yes/Sat/Dinner/2/15.01",
          "Male/No/Sat/Dinner/2/12.02",
          "Female/No/Sat/Dinner/3/17.07",
          "Female/Yes/Sat/Dinner/2/26.86",
          "Female/Yes/Sat/Dinner/2/25.28",
          "Female/No/Sat/Dinner/2/14.73",
          "Male/No/Sat/Dinner/2/10.51",
          "Male/Yes/Sat/Dinner/2/17.92",
          "Male/No/Thur/Lunch/4/27.2",
          "Male/No/Thur/Lunch/2/22.76",
          "Male/No/Thur/Lunch/2/17.29",
          "Male/Yes/Thur/Lunch/2/19.44",
          "Male/No/Thur/Lunch/2/16.66",
          "Female/No/Thur/Lunch/1/10.07",
          "Male/Yes/Thur/Lunch/2/32.68",
          "Male/No/Thur/Lunch/2/15.98",
          "Female/No/Thur/Lunch/4/34.83",
          "Male/No/Thur/Lunch/2/13.03",
          "Male/No/Thur/Lunch/2/18.28",
          "Male/No/Thur/Lunch/2/24.71",
          "Male/No/Thur/Lunch/2/21.16",
          "Male/Yes/Fri/Dinner/2/28.97",
          "Male/No/Fri/Dinner/2/22.49",
          "Female/Yes/Fri/Dinner/2/5.75",
          "Female/Yes/Fri/Dinner/2/16.32",
          "Female/No/Fri/Dinner/2/22.75",
          "Male/Yes/Fri/Dinner/4/40.17",
          "Male/Yes/Fri/Dinner/2/27.28",
          "Male/Yes/Fri/Dinner/2/12.03",
          "Male/Yes/Fri/Dinner/2/21.01",
          "Male/No/Fri/Dinner/2/12.46",
          "Female/Yes/Fri/Dinner/2/11.35",
          "Female/Yes/Fri/Dinner/2/15.38",
          "Female/Yes/Sat/Dinner/3/44.3",
          "Female/Yes/Sat/Dinner/2/22.42",
          "Female/No/Sat/Dinner/2/20.92",
          "Male/Yes/Sat/Dinner/2/15.36",
          "Male/Yes/Sat/Dinner/2/20.49",
          "Male/Yes/Sat/Dinner/2/25.21",
          "Male/No/Sat/Dinner/2/18.24",
          "Female/Yes/Sat/Dinner/2/14.31",
          "Male/No/Sat/Dinner/2/14.0",
          "Female/No/Sat/Dinner/1/7.25",
          "Male/No/Sun/Dinner/3/38.07",
          "Male/No/Sun/Dinner/2/23.95",
          "Female/No/Sun/Dinner/3/25.71",
          "Female/No/Sun/Dinner/2/17.31",
          "Male/No/Sun/Dinner/4/29.93",
          "Female/No/Thur/Lunch/2/10.65",
          "Female/No/Thur/Lunch/2/12.43",
          "Female/No/Thur/Lunch/4/24.08",
          "Male/No/Thur/Lunch/2/11.69",
          "Female/No/Thur/Lunch/2/13.42",
          "Male/No/Thur/Lunch/2/14.26",
          "Male/No/Thur/Lunch/2/15.95",
          "Female/No/Thur/Lunch/2/12.48",
          "Female/No/Thur/Lunch/6/29.8",
          "Male/No/Thur/Lunch/2/8.52",
          "Female/No/Thur/Lunch/2/14.52",
          "Female/No/Thur/Lunch/2/11.38",
          "Male/No/Thur/Lunch/3/22.82",
          "Male/No/Thur/Lunch/2/19.08",
          "Female/No/Thur/Lunch/2/20.27",
          "Female/No/Thur/Lunch/2/11.17",
          "Female/No/Thur/Lunch/2/12.26",
          "Female/No/Thur/Lunch/2/18.26",
          "Female/No/Thur/Lunch/2/8.51",
          "Female/No/Thur/Lunch/2/10.33",
          "Female/No/Thur/Lunch/2/14.15",
          "Male/Yes/Thur/Lunch/2/16.0",
          "Female/No/Thur/Lunch/2/13.16",
          "Female/No/Thur/Lunch/2/17.47",
          "Male/No/Thur/Lunch/6/34.3",
          "Male/No/Thur/Lunch/5/41.19",
          "Female/No/Thur/Lunch/6/27.05",
          "Female/No/Thur/Lunch/2/16.43",
          "Female/No/Thur/Lunch/2/8.35",
          "Female/No/Thur/Lunch/3/18.64",
          "Female/No/Thur/Lunch/2/11.87",
          "Male/No/Thur/Lunch/2/9.78",
          "Male/No/Thur/Lunch/2/7.51",
          "Male/No/Sun/Dinner/2/14.07",
          "Male/No/Sun/Dinner/2/13.13",
          "Male/No/Sun/Dinner/3/17.26",
          "Male/No/Sun/Dinner/4/24.55",
          "Male/No/Sun/Dinner/4/19.77",
          "Female/No/Sun/Dinner/5/29.85",
          "Male/No/Sun/Dinner/6/48.17",
          "Female/No/Sun/Dinner/4/25.0",
          "Female/No/Sun/Dinner/2/13.39",
          "Male/No/Sun/Dinner/4/16.49",
          "Male/No/Sun/Dinner/4/21.5",
          "Male/No/Sun/Dinner/2/12.66",
          "Female/No/Sun/Dinner/3/16.21",
          "Male/No/Sun/Dinner/2/13.81",
          "Female/Yes/Sun/Dinner/2/17.51",
          "Male/No/Sun/Dinner/3/24.52",
          "Male/No/Sun/Dinner/2/20.76",
          "Male/No/Sun/Dinner/4/31.71",
          "Female/Yes/Sat/Dinner/2/10.59",
          "Female/Yes/Sat/Dinner/2/10.63",
          "Male/Yes/Sat/Dinner/3/50.81",
          "Male/Yes/Sat/Dinner/2/15.81",
          "Male/Yes/Sun/Dinner/2/7.25",
          "Male/Yes/Sun/Dinner/2/31.85",
          "Male/Yes/Sun/Dinner/2/16.82",
          "Male/Yes/Sun/Dinner/2/32.9",
          "Male/Yes/Sun/Dinner/2/17.89",
          "Male/Yes/Sun/Dinner/2/14.48",
          "Female/Yes/Sun/Dinner/2/9.6",
          "Male/Yes/Sun/Dinner/2/34.63",
          "Male/Yes/Sun/Dinner/4/34.65",
          "Male/Yes/Sun/Dinner/2/23.33",
          "Male/Yes/Sun/Dinner/3/45.35",
          "Male/Yes/Sun/Dinner/4/23.17",
          "Male/Yes/Sun/Dinner/2/40.55",
          "Male/No/Sun/Dinner/5/20.69",
          "Female/Yes/Sun/Dinner/3/20.9",
          "Male/Yes/Sun/Dinner/5/30.46",
          "Female/Yes/Sun/Dinner/3/18.15",
          "Male/Yes/Sun/Dinner/3/23.1",
          "Male/Yes/Sun/Dinner/2/15.69",
          "Female/Yes/Thur/Lunch/2/19.81",
          "Male/Yes/Thur/Lunch/2/28.44",
          "Male/Yes/Thur/Lunch/2/15.48",
          "Male/Yes/Thur/Lunch/2/16.58",
          "Male/No/Thur/Lunch/2/7.56",
          "Male/Yes/Thur/Lunch/2/10.34",
          "Female/Yes/Thur/Lunch/4/43.11",
          "Female/Yes/Thur/Lunch/2/13.0",
          "Male/Yes/Thur/Lunch/2/13.51",
          "Male/Yes/Thur/Lunch/3/18.71",
          "Female/Yes/Thur/Lunch/2/12.74",
          "Female/Yes/Thur/Lunch/2/16.4",
          "Male/Yes/Thur/Lunch/4/20.53",
          "Female/Yes/Thur/Lunch/3/16.47",
          "Male/Yes/Sat/Dinner/3/26.59",
          "Male/Yes/Sat/Dinner/4/38.73",
          "Male/Yes/Sat/Dinner/2/24.27",
          "Female/Yes/Sat/Dinner/2/12.76",
          "Male/Yes/Sat/Dinner/3/30.06",
          "Male/Yes/Sat/Dinner/4/25.89",
          "Male/No/Sat/Dinner/4/48.33",
          "Female/Yes/Sat/Dinner/2/13.27",
          "Female/Yes/Sat/Dinner/3/28.17",
          "Female/Yes/Sat/Dinner/2/12.9",
          "Male/Yes/Sat/Dinner/5/28.15",
          "Male/Yes/Sat/Dinner/2/11.59",
          "Male/Yes/Sat/Dinner/2/7.74",
          "Female/Yes/Sat/Dinner/4/30.14",
          "Male/Yes/Fri/Lunch/2/12.16",
          "Female/Yes/Fri/Lunch/2/13.42",
          "Male/Yes/Fri/Lunch/1/8.58",
          "Female/No/Fri/Lunch/3/15.98",
          "Male/Yes/Fri/Lunch/2/13.42",
          "Female/Yes/Fri/Lunch/2/16.27",
          "Female/Yes/Fri/Lunch/2/10.09",
          "Male/No/Sat/Dinner/4/20.45",
          "Male/No/Sat/Dinner/2/13.28",
          "Female/Yes/Sat/Dinner/2/22.12",
          "Male/Yes/Sat/Dinner/4/24.01",
          "Male/Yes/Sat/Dinner/3/15.69",
          "Male/No/Sat/Dinner/2/11.61",
          "Male/No/Sat/Dinner/2/10.77",
          "Male/Yes/Sat/Dinner/2/15.53",
          "Male/No/Sat/Dinner/2/10.07",
          "Male/Yes/Sat/Dinner/2/12.6",
          "Male/Yes/Sat/Dinner/2/32.83",
          "Female/No/Sat/Dinner/3/35.83",
          "Male/No/Sat/Dinner/3/29.03",
          "Female/Yes/Sat/Dinner/2/27.18",
          "Male/Yes/Sat/Dinner/2/22.67",
          "Male/No/Sat/Dinner/2/17.82",
          "Female/No/Thur/Dinner/2/18.78",
          "Female/No/Sun/Dinner/2",
          "Male/No/Sun/Dinner/3",
          "Male/No/Sun/Dinner/2",
          "Female/No/Sun/Dinner/4",
          "Male/No/Sun/Dinner/4",
          "Female/No/Sun/Dinner/3",
          "Male/No/Sat/Dinner/3",
          "Male/No/Sat/Dinner/2",
          "Female/No/Sat/Dinner/2",
          "Male/No/Sat/Dinner/4",
          "Female/No/Sat/Dinner/4",
          "Female/No/Sat/Dinner/3",
          "Male/Yes/Sat/Dinner/4",
          "Male/Yes/Sat/Dinner/2",
          "Female/Yes/Sat/Dinner/1",
          "Female/Yes/Sat/Dinner/2",
          "Male/No/Thur/Lunch/4",
          "Male/No/Thur/Lunch/2",
          "Male/Yes/Thur/Lunch/2",
          "Female/No/Thur/Lunch/1",
          "Female/No/Thur/Lunch/4",
          "Male/Yes/Fri/Dinner/2",
          "Male/No/Fri/Dinner/2",
          "Female/Yes/Fri/Dinner/2",
          "Female/No/Fri/Dinner/2",
          "Male/Yes/Fri/Dinner/4",
          "Female/Yes/Sat/Dinner/3",
          "Female/No/Sat/Dinner/1",
          "Female/No/Thur/Lunch/2",
          "Female/No/Thur/Lunch/6",
          "Male/No/Thur/Lunch/3",
          "Male/No/Thur/Lunch/6",
          "Male/No/Thur/Lunch/5",
          "Female/No/Thur/Lunch/3",
          "Female/No/Sun/Dinner/5",
          "Male/No/Sun/Dinner/6",
          "Female/Yes/Sun/Dinner/2",
          "Male/Yes/Sat/Dinner/3",
          "Male/Yes/Sun/Dinner/2",
          "Male/Yes/Sun/Dinner/4",
          "Male/Yes/Sun/Dinner/3",
          "Male/No/Sun/Dinner/5",
          "Female/Yes/Sun/Dinner/3",
          "Male/Yes/Sun/Dinner/5",
          "Female/Yes/Thur/Lunch/2",
          "Female/Yes/Thur/Lunch/4",
          "Male/Yes/Thur/Lunch/3",
          "Male/Yes/Thur/Lunch/4",
          "Female/Yes/Thur/Lunch/3",
          "Male/Yes/Sat/Dinner/5",
          "Female/Yes/Sat/Dinner/4",
          "Male/Yes/Fri/Lunch/2",
          "Female/Yes/Fri/Lunch/2",
          "Male/Yes/Fri/Lunch/1",
          "Female/No/Fri/Lunch/3",
          "Female/No/Thur/Dinner/2",
          "Female/No/Sun/Dinner",
          "Male/No/Sun/Dinner",
          "Male/No/Sat/Dinner",
          "Female/No/Sat/Dinner",
          "Male/Yes/Sat/Dinner",
          "Female/Yes/Sat/Dinner",
          "Male/No/Thur/Lunch",
          "Male/Yes/Thur/Lunch",
          "Female/No/Thur/Lunch",
          "Male/Yes/Fri/Dinner",
          "Male/No/Fri/Dinner",
          "Female/Yes/Fri/Dinner",
          "Female/No/Fri/Dinner",
          "Female/Yes/Sun/Dinner",
          "Male/Yes/Sun/Dinner",
          "Female/Yes/Thur/Lunch",
          "Male/Yes/Fri/Lunch",
          "Female/Yes/Fri/Lunch",
          "Female/No/Fri/Lunch",
          "Female/No/Thur/Dinner",
          "Female/No/Sun",
          "Male/No/Sun",
          "Male/No/Sat",
          "Female/No/Sat",
          "Male/Yes/Sat",
          "Female/Yes/Sat",
          "Male/No/Thur",
          "Male/Yes/Thur",
          "Female/No/Thur",
          "Male/Yes/Fri",
          "Male/No/Fri",
          "Female/Yes/Fri",
          "Female/No/Fri",
          "Female/Yes/Sun",
          "Male/Yes/Sun",
          "Female/Yes/Thur",
          "Female/No",
          "Male/No",
          "Male/Yes",
          "Female/Yes",
          "Female",
          "Male"
         ],
         "labels": [
          "1.01",
          "1.66",
          "3.5",
          "3.31",
          "3.61",
          "4.71",
          "2.0",
          "3.12",
          "1.96",
          "3.23",
          "1.71",
          "5.0",
          "1.57",
          "3.0",
          "3.02",
          "3.92",
          "1.67",
          "3.71",
          "3.5",
          "3.35",
          "4.08",
          "2.75",
          "2.23",
          "7.58",
          "3.18",
          "2.34",
          "2.0",
          "2.0",
          "4.3",
          "3.0",
          "1.45",
          "2.5",
          "3.0",
          "2.45",
          "3.27",
          "3.6",
          "2.0",
          "3.07",
          "2.31",
          "5.0",
          "2.24",
          "2.54",
          "3.06",
          "1.32",
          "5.6",
          "3.0",
          "5.0",
          "6.0",
          "2.05",
          "3.0",
          "2.5",
          "2.6",
          "5.2",
          "1.56",
          "4.34",
          "3.51",
          "3.0",
          "1.5",
          "1.76",
          "6.73",
          "3.21",
          "2.0",
          "1.98",
          "3.76",
          "2.64",
          "3.15",
          "2.47",
          "1.0",
          "2.01",
          "2.09",
          "1.97",
          "3.0",
          "3.14",
          "5.0",
          "2.2",
          "1.25",
          "3.08",
          "4.0",
          "3.0",
          "2.71",
          "3.0",
          "3.4",
          "1.83",
          "5.0",
          "2.03",
          "5.17",
          "2.0",
          "4.0",
          "5.85",
          "3.0",
          "3.0",
          "3.5",
          "1.0",
          "4.3",
          "3.25",
          "4.73",
          "4.0",
          "1.5",
          "3.0",
          "1.5",
          "2.5",
          "3.0",
          "2.5",
          "3.48",
          "4.08",
          "1.64",
          "4.06",
          "4.29",
          "3.76",
          "4.0",
          "3.0",
          "1.0",
          "4.0",
          "2.55",
          "4.0",
          "3.5",
          "5.07",
          "1.5",
          "1.8",
          "2.92",
          "2.31",
          "1.68",
          "2.5",
          "2.0",
          "2.52",
          "4.2",
          "1.48",
          "2.0",
          "2.0",
          "2.18",
          "1.5",
          "2.83",
          "1.5",
          "2.0",
          "3.25",
          "1.25",
          "2.0",
          "2.0",
          "2.0",
          "2.75",
          "3.5",
          "6.7",
          "5.0",
          "5.0",
          "2.3",
          "1.5",
          "1.36",
          "1.63",
          "1.73",
          "2.0",
          "2.5",
          "2.0",
          "2.74",
          "2.0",
          "2.0",
          "5.14",
          "5.0",
          "3.75",
          "2.61",
          "2.0",
          "3.5",
          "2.5",
          "2.0",
          "2.0",
          "3.0",
          "3.48",
          "2.24",
          "4.5",
          "1.61",
          "2.0",
          "10.0",
          "3.16",
          "5.15",
          "3.18",
          "4.0",
          "3.11",
          "2.0",
          "2.0",
          "4.0",
          "3.55",
          "3.68",
          "5.65",
          "3.5",
          "6.5",
          "3.0",
          "5.0",
          "3.5",
          "2.0",
          "3.5",
          "4.0",
          "1.5",
          "4.19",
          "2.56",
          "2.02",
          "4.0",
          "1.44",
          "2.0",
          "5.0",
          "2.0",
          "2.0",
          "4.0",
          "2.01",
          "2.5",
          "4.0",
          "3.23",
          "3.41",
          "3.0",
          "2.03",
          "2.23",
          "2.0",
          "5.16",
          "9.0",
          "2.5",
          "6.5",
          "1.1",
          "3.0",
          "1.5",
          "1.44",
          "3.09",
          "2.2",
          "3.48",
          "1.92",
          "3.0",
          "1.58",
          "2.5",
          "2.0",
          "3.0",
          "2.72",
          "2.88",
          "2.0",
          "3.0",
          "3.39",
          "1.47",
          "3.0",
          "1.25",
          "1.0",
          "1.17",
          "4.67",
          "5.92",
          "2.0",
          "2.0",
          "1.75",
          "3.0",
          "16.99",
          "10.34",
          "21.01",
          "23.68",
          "24.59",
          "25.29",
          "8.77",
          "26.88",
          "15.04",
          "14.78",
          "10.27",
          "35.26",
          "15.42",
          "18.43",
          "14.83",
          "21.58",
          "10.33",
          "16.29",
          "16.97",
          "20.65",
          "17.92",
          "20.29",
          "15.77",
          "39.42",
          "19.82",
          "17.81",
          "13.37",
          "12.69",
          "21.7",
          "19.65",
          "9.55",
          "18.35",
          "15.06",
          "20.69",
          "17.78",
          "24.06",
          "16.31",
          "16.93",
          "18.69",
          "31.27",
          "16.04",
          "17.46",
          "13.94",
          "9.68",
          "30.4",
          "18.29",
          "22.23",
          "32.4",
          "28.55",
          "18.04",
          "12.54",
          "10.29",
          "34.81",
          "9.94",
          "25.56",
          "19.49",
          "38.01",
          "26.41",
          "11.24",
          "48.27",
          "20.29",
          "13.81",
          "11.02",
          "18.29",
          "17.59",
          "20.08",
          "16.45",
          "3.07",
          "20.23",
          "15.01",
          "12.02",
          "17.07",
          "26.86",
          "25.28",
          "14.73",
          "10.51",
          "17.92",
          "27.2",
          "22.76",
          "17.29",
          "19.44",
          "16.66",
          "10.07",
          "32.68",
          "15.98",
          "34.83",
          "13.03",
          "18.28",
          "24.71",
          "21.16",
          "28.97",
          "22.49",
          "5.75",
          "16.32",
          "22.75",
          "40.17",
          "27.28",
          "12.03",
          "21.01",
          "12.46",
          "11.35",
          "15.38",
          "44.3",
          "22.42",
          "20.92",
          "15.36",
          "20.49",
          "25.21",
          "18.24",
          "14.31",
          "14.0",
          "7.25",
          "38.07",
          "23.95",
          "25.71",
          "17.31",
          "29.93",
          "10.65",
          "12.43",
          "24.08",
          "11.69",
          "13.42",
          "14.26",
          "15.95",
          "12.48",
          "29.8",
          "8.52",
          "14.52",
          "11.38",
          "22.82",
          "19.08",
          "20.27",
          "11.17",
          "12.26",
          "18.26",
          "8.51",
          "10.33",
          "14.15",
          "16.0",
          "13.16",
          "17.47",
          "34.3",
          "41.19",
          "27.05",
          "16.43",
          "8.35",
          "18.64",
          "11.87",
          "9.78",
          "7.51",
          "14.07",
          "13.13",
          "17.26",
          "24.55",
          "19.77",
          "29.85",
          "48.17",
          "25.0",
          "13.39",
          "16.49",
          "21.5",
          "12.66",
          "16.21",
          "13.81",
          "17.51",
          "24.52",
          "20.76",
          "31.71",
          "10.59",
          "10.63",
          "50.81",
          "15.81",
          "7.25",
          "31.85",
          "16.82",
          "32.9",
          "17.89",
          "14.48",
          "9.6",
          "34.63",
          "34.65",
          "23.33",
          "45.35",
          "23.17",
          "40.55",
          "20.69",
          "20.9",
          "30.46",
          "18.15",
          "23.1",
          "15.69",
          "19.81",
          "28.44",
          "15.48",
          "16.58",
          "7.56",
          "10.34",
          "43.11",
          "13.0",
          "13.51",
          "18.71",
          "12.74",
          "16.4",
          "20.53",
          "16.47",
          "26.59",
          "38.73",
          "24.27",
          "12.76",
          "30.06",
          "25.89",
          "48.33",
          "13.27",
          "28.17",
          "12.9",
          "28.15",
          "11.59",
          "7.74",
          "30.14",
          "12.16",
          "13.42",
          "8.58",
          "15.98",
          "13.42",
          "16.27",
          "10.09",
          "20.45",
          "13.28",
          "22.12",
          "24.01",
          "15.69",
          "11.61",
          "10.77",
          "15.53",
          "10.07",
          "12.6",
          "32.83",
          "35.83",
          "29.03",
          "27.18",
          "22.67",
          "17.82",
          "18.78",
          "2",
          "3",
          "2",
          "4",
          "4",
          "3",
          "3",
          "2",
          "2",
          "4",
          "4",
          "3",
          "4",
          "2",
          "1",
          "2",
          "4",
          "2",
          "2",
          "1",
          "4",
          "2",
          "2",
          "2",
          "2",
          "4",
          "3",
          "1",
          "2",
          "6",
          "3",
          "6",
          "5",
          "3",
          "5",
          "6",
          "2",
          "3",
          "2",
          "4",
          "3",
          "5",
          "3",
          "5",
          "2",
          "4",
          "3",
          "4",
          "3",
          "5",
          "4",
          "2",
          "2",
          "1",
          "3",
          "2",
          "Dinner",
          "Dinner",
          "Dinner",
          "Dinner",
          "Dinner",
          "Dinner",
          "Lunch",
          "Lunch",
          "Lunch",
          "Dinner",
          "Dinner",
          "Dinner",
          "Dinner",
          "Dinner",
          "Dinner",
          "Lunch",
          "Lunch",
          "Lunch",
          "Lunch",
          "Dinner",
          "Sun",
          "Sun",
          "Sat",
          "Sat",
          "Sat",
          "Sat",
          "Thur",
          "Thur",
          "Thur",
          "Fri",
          "Fri",
          "Fri",
          "Fri",
          "Sun",
          "Sun",
          "Thur",
          "No",
          "No",
          "Yes",
          "Yes",
          "Female",
          "Male"
         ],
         "marker": {
          "coloraxis": "coloraxis",
          "colors": {
           "bdata": "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",
           "dtype": "f8"
          }
         },
         "name": "",
         "parents": [
          "Female/No/Sun/Dinner/2/16.99",
          "Male/No/Sun/Dinner/3/10.34",
          "Male/No/Sun/Dinner/3/21.01",
          "Male/No/Sun/Dinner/2/23.68",
          "Female/No/Sun/Dinner/4/24.59",
          "Male/No/Sun/Dinner/4/25.29",
          "Male/No/Sun/Dinner/2/8.77",
          "Male/No/Sun/Dinner/4/26.88",
          "Male/No/Sun/Dinner/2/15.04",
          "Male/No/Sun/Dinner/2/14.78",
          "Male/No/Sun/Dinner/2/10.27",
          "Female/No/Sun/Dinner/4/35.26",
          "Male/No/Sun/Dinner/2/15.42",
          "Male/No/Sun/Dinner/4/18.43",
          "Female/No/Sun/Dinner/2/14.83",
          "Male/No/Sun/Dinner/2/21.58",
          "Female/No/Sun/Dinner/3/10.33",
          "Male/No/Sun/Dinner/3/16.29",
          "Female/No/Sun/Dinner/3/16.97",
          "Male/No/Sat/Dinner/3/20.65",
          "Male/No/Sat/Dinner/2/17.92",
          "Female/No/Sat/Dinner/2/20.29",
          "Female/No/Sat/Dinner/2/15.77",
          "Male/No/Sat/Dinner/4/39.42",
          "Male/No/Sat/Dinner/2/19.82",
          "Male/No/Sat/Dinner/4/17.81",
          "Male/No/Sat/Dinner/2/13.37",
          "Male/No/Sat/Dinner/2/12.69",
          "Male/No/Sat/Dinner/2/21.7",
          "Female/No/Sat/Dinner/2/19.65",
          "Male/No/Sat/Dinner/2/9.55",
          "Male/No/Sat/Dinner/4/18.35",
          "Female/No/Sat/Dinner/2/15.06",
          "Female/No/Sat/Dinner/4/20.69",
          "Male/No/Sat/Dinner/2/17.78",
          "Male/No/Sat/Dinner/3/24.06",
          "Male/No/Sat/Dinner/3/16.31",
          "Female/No/Sat/Dinner/3/16.93",
          "Male/No/Sat/Dinner/3/18.69",
          "Male/No/Sat/Dinner/3/31.27",
          "Male/No/Sat/Dinner/3/16.04",
          "Male/No/Sun/Dinner/2/17.46",
          "Male/No/Sun/Dinner/2/13.94",
          "Male/No/Sun/Dinner/2/9.68",
          "Male/No/Sun/Dinner/4/30.4",
          "Male/No/Sun/Dinner/2/18.29",
          "Male/No/Sun/Dinner/2/22.23",
          "Male/No/Sun/Dinner/4/32.4",
          "Male/No/Sun/Dinner/3/28.55",
          "Male/No/Sun/Dinner/2/18.04",
          "Male/No/Sun/Dinner/2/12.54",
          "Female/No/Sun/Dinner/2/10.29",
          "Female/No/Sun/Dinner/4/34.81",
          "Male/No/Sun/Dinner/2/9.94",
          "Male/No/Sun/Dinner/4/25.56",
          "Male/No/Sun/Dinner/2/19.49",
          "Male/Yes/Sat/Dinner/4/38.01",
          "Female/No/Sat/Dinner/2/26.41",
          "Male/Yes/Sat/Dinner/2/11.24",
          "Male/No/Sat/Dinner/4/48.27",
          "Male/Yes/Sat/Dinner/2/20.29",
          "Male/Yes/Sat/Dinner/2/13.81",
          "Male/Yes/Sat/Dinner/2/11.02",
          "Male/Yes/Sat/Dinner/4/18.29",
          "Male/No/Sat/Dinner/3/17.59",
          "Male/No/Sat/Dinner/3/20.08",
          "Female/No/Sat/Dinner/2/16.45",
          "Female/Yes/Sat/Dinner/1/3.07",
          "Male/No/Sat/Dinner/2/20.23",
          "Male/Yes/Sat/Dinner/2/15.01",
          "Male/No/Sat/Dinner/2/12.02",
          "Female/No/Sat/Dinner/3/17.07",
          "Female/Yes/Sat/Dinner/2/26.86",
          "Female/Yes/Sat/Dinner/2/25.28",
          "Female/No/Sat/Dinner/2/14.73",
          "Male/No/Sat/Dinner/2/10.51",
          "Male/Yes/Sat/Dinner/2/17.92",
          "Male/No/Thur/Lunch/4/27.2",
          "Male/No/Thur/Lunch/2/22.76",
          "Male/No/Thur/Lunch/2/17.29",
          "Male/Yes/Thur/Lunch/2/19.44",
          "Male/No/Thur/Lunch/2/16.66",
          "Female/No/Thur/Lunch/1/10.07",
          "Male/Yes/Thur/Lunch/2/32.68",
          "Male/No/Thur/Lunch/2/15.98",
          "Female/No/Thur/Lunch/4/34.83",
          "Male/No/Thur/Lunch/2/13.03",
          "Male/No/Thur/Lunch/2/18.28",
          "Male/No/Thur/Lunch/2/24.71",
          "Male/No/Thur/Lunch/2/21.16",
          "Male/Yes/Fri/Dinner/2/28.97",
          "Male/No/Fri/Dinner/2/22.49",
          "Female/Yes/Fri/Dinner/2/5.75",
          "Female/Yes/Fri/Dinner/2/16.32",
          "Female/No/Fri/Dinner/2/22.75",
          "Male/Yes/Fri/Dinner/4/40.17",
          "Male/Yes/Fri/Dinner/2/27.28",
          "Male/Yes/Fri/Dinner/2/12.03",
          "Male/Yes/Fri/Dinner/2/21.01",
          "Male/No/Fri/Dinner/2/12.46",
          "Female/Yes/Fri/Dinner/2/11.35",
          "Female/Yes/Fri/Dinner/2/15.38",
          "Female/Yes/Sat/Dinner/3/44.3",
          "Female/Yes/Sat/Dinner/2/22.42",
          "Female/No/Sat/Dinner/2/20.92",
          "Male/Yes/Sat/Dinner/2/15.36",
          "Male/Yes/Sat/Dinner/2/20.49",
          "Male/Yes/Sat/Dinner/2/25.21",
          "Male/No/Sat/Dinner/2/18.24",
          "Female/Yes/Sat/Dinner/2/14.31",
          "Male/No/Sat/Dinner/2/14.0",
          "Female/No/Sat/Dinner/1/7.25",
          "Male/No/Sun/Dinner/3/38.07",
          "Male/No/Sun/Dinner/2/23.95",
          "Female/No/Sun/Dinner/3/25.71",
          "Female/No/Sun/Dinner/2/17.31",
          "Male/No/Sun/Dinner/4/29.93",
          "Female/No/Thur/Lunch/2/10.65",
          "Female/No/Thur/Lunch/2/12.43",
          "Female/No/Thur/Lunch/4/24.08",
          "Male/No/Thur/Lunch/2/11.69",
          "Female/No/Thur/Lunch/2/13.42",
          "Male/No/Thur/Lunch/2/14.26",
          "Male/No/Thur/Lunch/2/15.95",
          "Female/No/Thur/Lunch/2/12.48",
          "Female/No/Thur/Lunch/6/29.8",
          "Male/No/Thur/Lunch/2/8.52",
          "Female/No/Thur/Lunch/2/14.52",
          "Female/No/Thur/Lunch/2/11.38",
          "Male/No/Thur/Lunch/3/22.82",
          "Male/No/Thur/Lunch/2/19.08",
          "Female/No/Thur/Lunch/2/20.27",
          "Female/No/Thur/Lunch/2/11.17",
          "Female/No/Thur/Lunch/2/12.26",
          "Female/No/Thur/Lunch/2/18.26",
          "Female/No/Thur/Lunch/2/8.51",
          "Female/No/Thur/Lunch/2/10.33",
          "Female/No/Thur/Lunch/2/14.15",
          "Male/Yes/Thur/Lunch/2/16.0",
          "Female/No/Thur/Lunch/2/13.16",
          "Female/No/Thur/Lunch/2/17.47",
          "Male/No/Thur/Lunch/6/34.3",
          "Male/No/Thur/Lunch/5/41.19",
          "Female/No/Thur/Lunch/6/27.05",
          "Female/No/Thur/Lunch/2/16.43",
          "Female/No/Thur/Lunch/2/8.35",
          "Female/No/Thur/Lunch/3/18.64",
          "Female/No/Thur/Lunch/2/11.87",
          "Male/No/Thur/Lunch/2/9.78",
          "Male/No/Thur/Lunch/2/7.51",
          "Male/No/Sun/Dinner/2/14.07",
          "Male/No/Sun/Dinner/2/13.13",
          "Male/No/Sun/Dinner/3/17.26",
          "Male/No/Sun/Dinner/4/24.55",
          "Male/No/Sun/Dinner/4/19.77",
          "Female/No/Sun/Dinner/5/29.85",
          "Male/No/Sun/Dinner/6/48.17",
          "Female/No/Sun/Dinner/4/25.0",
          "Female/No/Sun/Dinner/2/13.39",
          "Male/No/Sun/Dinner/4/16.49",
          "Male/No/Sun/Dinner/4/21.5",
          "Male/No/Sun/Dinner/2/12.66",
          "Female/No/Sun/Dinner/3/16.21",
          "Male/No/Sun/Dinner/2/13.81",
          "Female/Yes/Sun/Dinner/2/17.51",
          "Male/No/Sun/Dinner/3/24.52",
          "Male/No/Sun/Dinner/2/20.76",
          "Male/No/Sun/Dinner/4/31.71",
          "Female/Yes/Sat/Dinner/2/10.59",
          "Female/Yes/Sat/Dinner/2/10.63",
          "Male/Yes/Sat/Dinner/3/50.81",
          "Male/Yes/Sat/Dinner/2/15.81",
          "Male/Yes/Sun/Dinner/2/7.25",
          "Male/Yes/Sun/Dinner/2/31.85",
          "Male/Yes/Sun/Dinner/2/16.82",
          "Male/Yes/Sun/Dinner/2/32.9",
          "Male/Yes/Sun/Dinner/2/17.89",
          "Male/Yes/Sun/Dinner/2/14.48",
          "Female/Yes/Sun/Dinner/2/9.6",
          "Male/Yes/Sun/Dinner/2/34.63",
          "Male/Yes/Sun/Dinner/4/34.65",
          "Male/Yes/Sun/Dinner/2/23.33",
          "Male/Yes/Sun/Dinner/3/45.35",
          "Male/Yes/Sun/Dinner/4/23.17",
          "Male/Yes/Sun/Dinner/2/40.55",
          "Male/No/Sun/Dinner/5/20.69",
          "Female/Yes/Sun/Dinner/3/20.9",
          "Male/Yes/Sun/Dinner/5/30.46",
          "Female/Yes/Sun/Dinner/3/18.15",
          "Male/Yes/Sun/Dinner/3/23.1",
          "Male/Yes/Sun/Dinner/2/15.69",
          "Female/Yes/Thur/Lunch/2/19.81",
          "Male/Yes/Thur/Lunch/2/28.44",
          "Male/Yes/Thur/Lunch/2/15.48",
          "Male/Yes/Thur/Lunch/2/16.58",
          "Male/No/Thur/Lunch/2/7.56",
          "Male/Yes/Thur/Lunch/2/10.34",
          "Female/Yes/Thur/Lunch/4/43.11",
          "Female/Yes/Thur/Lunch/2/13.0",
          "Male/Yes/Thur/Lunch/2/13.51",
          "Male/Yes/Thur/Lunch/3/18.71",
          "Female/Yes/Thur/Lunch/2/12.74",
          "Female/Yes/Thur/Lunch/2/16.4",
          "Male/Yes/Thur/Lunch/4/20.53",
          "Female/Yes/Thur/Lunch/3/16.47",
          "Male/Yes/Sat/Dinner/3/26.59",
          "Male/Yes/Sat/Dinner/4/38.73",
          "Male/Yes/Sat/Dinner/2/24.27",
          "Female/Yes/Sat/Dinner/2/12.76",
          "Male/Yes/Sat/Dinner/3/30.06",
          "Male/Yes/Sat/Dinner/4/25.89",
          "Male/No/Sat/Dinner/4/48.33",
          "Female/Yes/Sat/Dinner/2/13.27",
          "Female/Yes/Sat/Dinner/3/28.17",
          "Female/Yes/Sat/Dinner/2/12.9",
          "Male/Yes/Sat/Dinner/5/28.15",
          "Male/Yes/Sat/Dinner/2/11.59",
          "Male/Yes/Sat/Dinner/2/7.74",
          "Female/Yes/Sat/Dinner/4/30.14",
          "Male/Yes/Fri/Lunch/2/12.16",
          "Female/Yes/Fri/Lunch/2/13.42",
          "Male/Yes/Fri/Lunch/1/8.58",
          "Female/No/Fri/Lunch/3/15.98",
          "Male/Yes/Fri/Lunch/2/13.42",
          "Female/Yes/Fri/Lunch/2/16.27",
          "Female/Yes/Fri/Lunch/2/10.09",
          "Male/No/Sat/Dinner/4/20.45",
          "Male/No/Sat/Dinner/2/13.28",
          "Female/Yes/Sat/Dinner/2/22.12",
          "Male/Yes/Sat/Dinner/4/24.01",
          "Male/Yes/Sat/Dinner/3/15.69",
          "Male/No/Sat/Dinner/2/11.61",
          "Male/No/Sat/Dinner/2/10.77",
          "Male/Yes/Sat/Dinner/2/15.53",
          "Male/No/Sat/Dinner/2/10.07",
          "Male/Yes/Sat/Dinner/2/12.6",
          "Male/Yes/Sat/Dinner/2/32.83",
          "Female/No/Sat/Dinner/3/35.83",
          "Male/No/Sat/Dinner/3/29.03",
          "Female/Yes/Sat/Dinner/2/27.18",
          "Male/Yes/Sat/Dinner/2/22.67",
          "Male/No/Sat/Dinner/2/17.82",
          "Female/No/Thur/Dinner/2/18.78",
          "Female/No/Sun/Dinner/2",
          "Male/No/Sun/Dinner/3",
          "Male/No/Sun/Dinner/3",
          "Male/No/Sun/Dinner/2",
          "Female/No/Sun/Dinner/4",
          "Male/No/Sun/Dinner/4",
          "Male/No/Sun/Dinner/2",
          "Male/No/Sun/Dinner/4",
          "Male/No/Sun/Dinner/2",
          "Male/No/Sun/Dinner/2",
          "Male/No/Sun/Dinner/2",
          "Female/No/Sun/Dinner/4",
          "Male/No/Sun/Dinner/2",
          "Male/No/Sun/Dinner/4",
          "Female/No/Sun/Dinner/2",
          "Male/No/Sun/Dinner/2",
          "Female/No/Sun/Dinner/3",
          "Male/No/Sun/Dinner/3",
          "Female/No/Sun/Dinner/3",
          "Male/No/Sat/Dinner/3",
          "Male/No/Sat/Dinner/2",
          "Female/No/Sat/Dinner/2",
          "Female/No/Sat/Dinner/2",
          "Male/No/Sat/Dinner/4",
          "Male/No/Sat/Dinner/2",
          "Male/No/Sat/Dinner/4",
          "Male/No/Sat/Dinner/2",
          "Male/No/Sat/Dinner/2",
          "Male/No/Sat/Dinner/2",
          "Female/No/Sat/Dinner/2",
          "Male/No/Sat/Dinner/2",
          "Male/No/Sat/Dinner/4",
          "Female/No/Sat/Dinner/2",
          "Female/No/Sat/Dinner/4",
          "Male/No/Sat/Dinner/2",
          "Male/No/Sat/Dinner/3",
          "Male/No/Sat/Dinner/3",
          "Female/No/Sat/Dinner/3",
          "Male/No/Sat/Dinner/3",
          "Male/No/Sat/Dinner/3",
          "Male/No/Sat/Dinner/3",
          "Male/No/Sun/Dinner/2",
          "Male/No/Sun/Dinner/2",
          "Male/No/Sun/Dinner/2",
          "Male/No/Sun/Dinner/4",
          "Male/No/Sun/Dinner/2",
          "Male/No/Sun/Dinner/2",
          "Male/No/Sun/Dinner/4",
          "Male/No/Sun/Dinner/3",
          "Male/No/Sun/Dinner/2",
          "Male/No/Sun/Dinner/2",
          "Female/No/Sun/Dinner/2",
          "Female/No/Sun/Dinner/4",
          "Male/No/Sun/Dinner/2",
          "Male/No/Sun/Dinner/4",
          "Male/No/Sun/Dinner/2",
          "Male/Yes/Sat/Dinner/4",
          "Female/No/Sat/Dinner/2",
          "Male/Yes/Sat/Dinner/2",
          "Male/No/Sat/Dinner/4",
          "Male/Yes/Sat/Dinner/2",
          "Male/Yes/Sat/Dinner/2",
          "Male/Yes/Sat/Dinner/2",
          "Male/Yes/Sat/Dinner/4",
          "Male/No/Sat/Dinner/3",
          "Male/No/Sat/Dinner/3",
          "Female/No/Sat/Dinner/2",
          "Female/Yes/Sat/Dinner/1",
          "Male/No/Sat/Dinner/2",
          "Male/Yes/Sat/Dinner/2",
          "Male/No/Sat/Dinner/2",
          "Female/No/Sat/Dinner/3",
          "Female/Yes/Sat/Dinner/2",
          "Female/Yes/Sat/Dinner/2",
          "Female/No/Sat/Dinner/2",
          "Male/No/Sat/Dinner/2",
          "Male/Yes/Sat/Dinner/2",
          "Male/No/Thur/Lunch/4",
          "Male/No/Thur/Lunch/2",
          "Male/No/Thur/Lunch/2",
          "Male/Yes/Thur/Lunch/2",
          "Male/No/Thur/Lunch/2",
          "Female/No/Thur/Lunch/1",
          "Male/Yes/Thur/Lunch/2",
          "Male/No/Thur/Lunch/2",
          "Female/No/Thur/Lunch/4",
          "Male/No/Thur/Lunch/2",
          "Male/No/Thur/Lunch/2",
          "Male/No/Thur/Lunch/2",
          "Male/No/Thur/Lunch/2",
          "Male/Yes/Fri/Dinner/2",
          "Male/No/Fri/Dinner/2",
          "Female/Yes/Fri/Dinner/2",
          "Female/Yes/Fri/Dinner/2",
          "Female/No/Fri/Dinner/2",
          "Male/Yes/Fri/Dinner/4",
          "Male/Yes/Fri/Dinner/2",
          "Male/Yes/Fri/Dinner/2",
          "Male/Yes/Fri/Dinner/2",
          "Male/No/Fri/Dinner/2",
          "Female/Yes/Fri/Dinner/2",
          "Female/Yes/Fri/Dinner/2",
          "Female/Yes/Sat/Dinner/3",
          "Female/Yes/Sat/Dinner/2",
          "Female/No/Sat/Dinner/2",
          "Male/Yes/Sat/Dinner/2",
          "Male/Yes/Sat/Dinner/2",
          "Male/Yes/Sat/Dinner/2",
          "Male/No/Sat/Dinner/2",
          "Female/Yes/Sat/Dinner/2",
          "Male/No/Sat/Dinner/2",
          "Female/No/Sat/Dinner/1",
          "Male/No/Sun/Dinner/3",
          "Male/No/Sun/Dinner/2",
          "Female/No/Sun/Dinner/3",
          "Female/No/Sun/Dinner/2",
          "Male/No/Sun/Dinner/4",
          "Female/No/Thur/Lunch/2",
          "Female/No/Thur/Lunch/2",
          "Female/No/Thur/Lunch/4",
          "Male/No/Thur/Lunch/2",
          "Female/No/Thur/Lunch/2",
          "Male/No/Thur/Lunch/2",
          "Male/No/Thur/Lunch/2",
          "Female/No/Thur/Lunch/2",
          "Female/No/Thur/Lunch/6",
          "Male/No/Thur/Lunch/2",
          "Female/No/Thur/Lunch/2",
          "Female/No/Thur/Lunch/2",
          "Male/No/Thur/Lunch/3",
          "Male/No/Thur/Lunch/2",
          "Female/No/Thur/Lunch/2",
          "Female/No/Thur/Lunch/2",
          "Female/No/Thur/Lunch/2",
          "Female/No/Thur/Lunch/2",
          "Female/No/Thur/Lunch/2",
          "Female/No/Thur/Lunch/2",
          "Female/No/Thur/Lunch/2",
          "Male/Yes/Thur/Lunch/2",
          "Female/No/Thur/Lunch/2",
          "Female/No/Thur/Lunch/2",
          "Male/No/Thur/Lunch/6",
          "Male/No/Thur/Lunch/5",
          "Female/No/Thur/Lunch/6",
          "Female/No/Thur/Lunch/2",
          "Female/No/Thur/Lunch/2",
          "Female/No/Thur/Lunch/3",
          "Female/No/Thur/Lunch/2",
          "Male/No/Thur/Lunch/2",
          "Male/No/Thur/Lunch/2",
          "Male/No/Sun/Dinner/2",
          "Male/No/Sun/Dinner/2",
          "Male/No/Sun/Dinner/3",
          "Male/No/Sun/Dinner/4",
          "Male/No/Sun/Dinner/4",
          "Female/No/Sun/Dinner/5",
          "Male/No/Sun/Dinner/6",
          "Female/No/Sun/Dinner/4",
          "Female/No/Sun/Dinner/2",
          "Male/No/Sun/Dinner/4",
          "Male/No/Sun/Dinner/4",
          "Male/No/Sun/Dinner/2",
          "Female/No/Sun/Dinner/3",
          "Male/No/Sun/Dinner/2",
          "Female/Yes/Sun/Dinner/2",
          "Male/No/Sun/Dinner/3",
          "Male/No/Sun/Dinner/2",
          "Male/No/Sun/Dinner/4",
          "Female/Yes/Sat/Dinner/2",
          "Female/Yes/Sat/Dinner/2",
          "Male/Yes/Sat/Dinner/3",
          "Male/Yes/Sat/Dinner/2",
          "Male/Yes/Sun/Dinner/2",
          "Male/Yes/Sun/Dinner/2",
          "Male/Yes/Sun/Dinner/2",
          "Male/Yes/Sun/Dinner/2",
          "Male/Yes/Sun/Dinner/2",
          "Male/Yes/Sun/Dinner/2",
          "Female/Yes/Sun/Dinner/2",
          "Male/Yes/Sun/Dinner/2",
          "Male/Yes/Sun/Dinner/4",
          "Male/Yes/Sun/Dinner/2",
          "Male/Yes/Sun/Dinner/3",
          "Male/Yes/Sun/Dinner/4",
          "Male/Yes/Sun/Dinner/2",
          "Male/No/Sun/Dinner/5",
          "Female/Yes/Sun/Dinner/3",
          "Male/Yes/Sun/Dinner/5",
          "Female/Yes/Sun/Dinner/3",
          "Male/Yes/Sun/Dinner/3",
          "Male/Yes/Sun/Dinner/2",
          "Female/Yes/Thur/Lunch/2",
          "Male/Yes/Thur/Lunch/2",
          "Male/Yes/Thur/Lunch/2",
          "Male/Yes/Thur/Lunch/2",
          "Male/No/Thur/Lunch/2",
          "Male/Yes/Thur/Lunch/2",
          "Female/Yes/Thur/Lunch/4",
          "Female/Yes/Thur/Lunch/2",
          "Male/Yes/Thur/Lunch/2",
          "Male/Yes/Thur/Lunch/3",
          "Female/Yes/Thur/Lunch/2",
          "Female/Yes/Thur/Lunch/2",
          "Male/Yes/Thur/Lunch/4",
          "Female/Yes/Thur/Lunch/3",
          "Male/Yes/Sat/Dinner/3",
          "Male/Yes/Sat/Dinner/4",
          "Male/Yes/Sat/Dinner/2",
          "Female/Yes/Sat/Dinner/2",
          "Male/Yes/Sat/Dinner/3",
          "Male/Yes/Sat/Dinner/4",
          "Male/No/Sat/Dinner/4",
          "Female/Yes/Sat/Dinner/2",
          "Female/Yes/Sat/Dinner/3",
          "Female/Yes/Sat/Dinner/2",
          "Male/Yes/Sat/Dinner/5",
          "Male/Yes/Sat/Dinner/2",
          "Male/Yes/Sat/Dinner/2",
          "Female/Yes/Sat/Dinner/4",
          "Male/Yes/Fri/Lunch/2",
          "Female/Yes/Fri/Lunch/2",
          "Male/Yes/Fri/Lunch/1",
          "Female/No/Fri/Lunch/3",
          "Male/Yes/Fri/Lunch/2",
          "Female/Yes/Fri/Lunch/2",
          "Female/Yes/Fri/Lunch/2",
          "Male/No/Sat/Dinner/4",
          "Male/No/Sat/Dinner/2",
          "Female/Yes/Sat/Dinner/2",
          "Male/Yes/Sat/Dinner/4",
          "Male/Yes/Sat/Dinner/3",
          "Male/No/Sat/Dinner/2",
          "Male/No/Sat/Dinner/2",
          "Male/Yes/Sat/Dinner/2",
          "Male/No/Sat/Dinner/2",
          "Male/Yes/Sat/Dinner/2",
          "Male/Yes/Sat/Dinner/2",
          "Female/No/Sat/Dinner/3",
          "Male/No/Sat/Dinner/3",
          "Female/Yes/Sat/Dinner/2",
          "Male/Yes/Sat/Dinner/2",
          "Male/No/Sat/Dinner/2",
          "Female/No/Thur/Dinner/2",
          "Female/No/Sun/Dinner",
          "Male/No/Sun/Dinner",
          "Male/No/Sun/Dinner",
          "Female/No/Sun/Dinner",
          "Male/No/Sun/Dinner",
          "Female/No/Sun/Dinner",
          "Male/No/Sat/Dinner",
          "Male/No/Sat/Dinner",
          "Female/No/Sat/Dinner",
          "Male/No/Sat/Dinner",
          "Female/No/Sat/Dinner",
          "Female/No/Sat/Dinner",
          "Male/Yes/Sat/Dinner",
          "Male/Yes/Sat/Dinner",
          "Female/Yes/Sat/Dinner",
          "Female/Yes/Sat/Dinner",
          "Male/No/Thur/Lunch",
          "Male/No/Thur/Lunch",
          "Male/Yes/Thur/Lunch",
          "Female/No/Thur/Lunch",
          "Female/No/Thur/Lunch",
          "Male/Yes/Fri/Dinner",
          "Male/No/Fri/Dinner",
          "Female/Yes/Fri/Dinner",
          "Female/No/Fri/Dinner",
          "Male/Yes/Fri/Dinner",
          "Female/Yes/Sat/Dinner",
          "Female/No/Sat/Dinner",
          "Female/No/Thur/Lunch",
          "Female/No/Thur/Lunch",
          "Male/No/Thur/Lunch",
          "Male/No/Thur/Lunch",
          "Male/No/Thur/Lunch",
          "Female/No/Thur/Lunch",
          "Female/No/Sun/Dinner",
          "Male/No/Sun/Dinner",
          "Female/Yes/Sun/Dinner",
          "Male/Yes/Sat/Dinner",
          "Male/Yes/Sun/Dinner",
          "Male/Yes/Sun/Dinner",
          "Male/Yes/Sun/Dinner",
          "Male/No/Sun/Dinner",
          "Female/Yes/Sun/Dinner",
          "Male/Yes/Sun/Dinner",
          "Female/Yes/Thur/Lunch",
          "Female/Yes/Thur/Lunch",
          "Male/Yes/Thur/Lunch",
          "Male/Yes/Thur/Lunch",
          "Female/Yes/Thur/Lunch",
          "Male/Yes/Sat/Dinner",
          "Female/Yes/Sat/Dinner",
          "Male/Yes/Fri/Lunch",
          "Female/Yes/Fri/Lunch",
          "Male/Yes/Fri/Lunch",
          "Female/No/Fri/Lunch",
          "Female/No/Thur/Dinner",
          "Female/No/Sun",
          "Male/No/Sun",
          "Male/No/Sat",
          "Female/No/Sat",
          "Male/Yes/Sat",
          "Female/Yes/Sat",
          "Male/No/Thur",
          "Male/Yes/Thur",
          "Female/No/Thur",
          "Male/Yes/Fri",
          "Male/No/Fri",
          "Female/Yes/Fri",
          "Female/No/Fri",
          "Female/Yes/Sun",
          "Male/Yes/Sun",
          "Female/Yes/Thur",
          "Male/Yes/Fri",
          "Female/Yes/Fri",
          "Female/No/Fri",
          "Female/No/Thur",
          "Female/No",
          "Male/No",
          "Male/No",
          "Female/No",
          "Male/Yes",
          "Female/Yes",
          "Male/No",
          "Male/Yes",
          "Female/No",
          "Male/Yes",
          "Male/No",
          "Female/Yes",
          "Female/No",
          "Female/Yes",
          "Male/Yes",
          "Female/Yes",
          "Female",
          "Male",
          "Male",
          "Female",
          "",
          ""
         ],
         "type": "sunburst",
         "values": {
          "bdata": "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",
          "dtype": "f8"
         }
        }
       ],
       "layout": {
        "coloraxis": {
         "colorbar": {
          "title": {
           "text": "size"
          }
         },
         "colorscale": [
          [
           0,
           "#0d0887"
          ],
          [
           0.1111111111111111,
           "#46039f"
          ],
          [
           0.2222222222222222,
           "#7201a8"
          ],
          [
           0.3333333333333333,
           "#9c179e"
          ],
          [
           0.4444444444444444,
           "#bd3786"
          ],
          [
           0.5555555555555556,
           "#d8576b"
          ],
          [
           0.6666666666666666,
           "#ed7953"
          ],
          [
           0.7777777777777778,
           "#fb9f3a"
          ],
          [
           0.8888888888888888,
           "#fdca26"
          ],
          [
           1,
           "#f0f921"
          ]
         ]
        },
        "legend": {
         "tracegroupgap": 0
        },
        "margin": {
         "t": 60
        },
        "template": {
         "data": {
          "bar": [
           {
            "error_x": {
             "color": "#2a3f5f"
            },
            "error_y": {
             "color": "#2a3f5f"
            },
            "marker": {
             "line": {
              "color": "#E5ECF6",
              "width": 0.5
             },
             "pattern": {
              "fillmode": "overlay",
              "size": 10,
              "solidity": 0.2
             }
            },
            "type": "bar"
           }
          ],
          "barpolar": [
           {
            "marker": {
             "line": {
              "color": "#E5ECF6",
              "width": 0.5
             },
             "pattern": {
              "fillmode": "overlay",
              "size": 10,
              "solidity": 0.2
             }
            },
            "type": "barpolar"
           }
          ],
          "carpet": [
           {
            "aaxis": {
             "endlinecolor": "#2a3f5f",
             "gridcolor": "white",
             "linecolor": "white",
             "minorgridcolor": "white",
             "startlinecolor": "#2a3f5f"
            },
            "baxis": {
             "endlinecolor": "#2a3f5f",
             "gridcolor": "white",
             "linecolor": "white",
             "minorgridcolor": "white",
             "startlinecolor": "#2a3f5f"
            },
            "type": "carpet"
           }
          ],
          "choropleth": [
           {
            "colorbar": {
             "outlinewidth": 0,
             "ticks": ""
            },
            "type": "choropleth"
           }
          ],
          "contour": [
           {
            "colorbar": {
             "outlinewidth": 0,
             "ticks": ""
            },
            "colorscale": [
             [
              0,
              "#0d0887"
             ],
             [
              0.1111111111111111,
              "#46039f"
             ],
             [
              0.2222222222222222,
              "#7201a8"
             ],
             [
              0.3333333333333333,
              "#9c179e"
             ],
             [
              0.4444444444444444,
              "#bd3786"
             ],
             [
              0.5555555555555556,
              "#d8576b"
             ],
             [
              0.6666666666666666,
              "#ed7953"
             ],
             [
              0.7777777777777778,
              "#fb9f3a"
             ],
             [
              0.8888888888888888,
              "#fdca26"
             ],
             [
              1,
              "#f0f921"
             ]
            ],
            "type": "contour"
           }
          ],
          "contourcarpet": [
           {
            "colorbar": {
             "outlinewidth": 0,
             "ticks": ""
            },
            "type": "contourcarpet"
           }
          ],
          "heatmap": [
           {
            "colorbar": {
             "outlinewidth": 0,
             "ticks": ""
            },
            "colorscale": [
             [
              0,
              "#0d0887"
             ],
             [
              0.1111111111111111,
              "#46039f"
             ],
             [
              0.2222222222222222,
              "#7201a8"
             ],
             [
              0.3333333333333333,
              "#9c179e"
             ],
             [
              0.4444444444444444,
              "#bd3786"
             ],
             [
              0.5555555555555556,
              "#d8576b"
             ],
             [
              0.6666666666666666,
              "#ed7953"
             ],
             [
              0.7777777777777778,
              "#fb9f3a"
             ],
             [
              0.8888888888888888,
              "#fdca26"
             ],
             [
              1,
              "#f0f921"
             ]
            ],
            "type": "heatmap"
           }
          ],
          "histogram": [
           {
            "marker": {
             "pattern": {
              "fillmode": "overlay",
              "size": 10,
              "solidity": 0.2
             }
            },
            "type": "histogram"
           }
          ],
          "histogram2d": [
           {
            "colorbar": {
             "outlinewidth": 0,
             "ticks": ""
            },
            "colorscale": [
             [
              0,
              "#0d0887"
             ],
             [
              0.1111111111111111,
              "#46039f"
             ],
             [
              0.2222222222222222,
              "#7201a8"
             ],
             [
              0.3333333333333333,
              "#9c179e"
             ],
             [
              0.4444444444444444,
              "#bd3786"
             ],
             [
              0.5555555555555556,
              "#d8576b"
             ],
             [
              0.6666666666666666,
              "#ed7953"
             ],
             [
              0.7777777777777778,
              "#fb9f3a"
             ],
             [
              0.8888888888888888,
              "#fdca26"
             ],
             [
              1,
              "#f0f921"
             ]
            ],
            "type": "histogram2d"
           }
          ],
          "histogram2dcontour": [
           {
            "colorbar": {
             "outlinewidth": 0,
             "ticks": ""
            },
            "colorscale": [
             [
              0,
              "#0d0887"
             ],
             [
              0.1111111111111111,
              "#46039f"
             ],
             [
              0.2222222222222222,
              "#7201a8"
             ],
             [
              0.3333333333333333,
              "#9c179e"
             ],
             [
              0.4444444444444444,
              "#bd3786"
             ],
             [
              0.5555555555555556,
              "#d8576b"
             ],
             [
              0.6666666666666666,
              "#ed7953"
             ],
             [
              0.7777777777777778,
              "#fb9f3a"
             ],
             [
              0.8888888888888888,
              "#fdca26"
             ],
             [
              1,
              "#f0f921"
             ]
            ],
            "type": "histogram2dcontour"
           }
          ],
          "mesh3d": [
           {
            "colorbar": {
             "outlinewidth": 0,
             "ticks": ""
            },
            "type": "mesh3d"
           }
          ],
          "parcoords": [
           {
            "line": {
             "colorbar": {
              "outlinewidth": 0,
              "ticks": ""
             }
            },
            "type": "parcoords"
           }
          ],
          "pie": [
           {
            "automargin": true,
            "type": "pie"
           }
          ],
          "scatter": [
           {
            "fillpattern": {
             "fillmode": "overlay",
             "size": 10,
             "solidity": 0.2
            },
            "type": "scatter"
           }
          ],
          "scatter3d": [
           {
            "line": {
             "colorbar": {
              "outlinewidth": 0,
              "ticks": ""
             }
            },
            "marker": {
             "colorbar": {
              "outlinewidth": 0,
              "ticks": ""
             }
            },
            "type": "scatter3d"
           }
          ],
          "scattercarpet": [
           {
            "marker": {
             "colorbar": {
              "outlinewidth": 0,
              "ticks": ""
             }
            },
            "type": "scattercarpet"
           }
          ],
          "scattergeo": [
           {
            "marker": {
             "colorbar": {
              "outlinewidth": 0,
              "ticks": ""
             }
            },
            "type": "scattergeo"
           }
          ],
          "scattergl": [
           {
            "marker": {
             "colorbar": {
              "outlinewidth": 0,
              "ticks": ""
             }
            },
            "type": "scattergl"
           }
          ],
          "scattermap": [
           {
            "marker": {
             "colorbar": {
              "outlinewidth": 0,
              "ticks": ""
             }
            },
            "type": "scattermap"
           }
          ],
          "scattermapbox": [
           {
            "marker": {
             "colorbar": {
              "outlinewidth": 0,
              "ticks": ""
             }
            },
            "type": "scattermapbox"
           }
          ],
          "scatterpolar": [
           {
            "marker": {
             "colorbar": {
              "outlinewidth": 0,
              "ticks": ""
             }
            },
            "type": "scatterpolar"
           }
          ],
          "scatterpolargl": [
           {
            "marker": {
             "colorbar": {
              "outlinewidth": 0,
              "ticks": ""
             }
            },
            "type": "scatterpolargl"
           }
          ],
          "scatterternary": [
           {
            "marker": {
             "colorbar": {
              "outlinewidth": 0,
              "ticks": ""
             }
            },
            "type": "scatterternary"
           }
          ],
          "surface": [
           {
            "colorbar": {
             "outlinewidth": 0,
             "ticks": ""
            },
            "colorscale": [
             [
              0,
              "#0d0887"
             ],
             [
              0.1111111111111111,
              "#46039f"
             ],
             [
              0.2222222222222222,
              "#7201a8"
             ],
             [
              0.3333333333333333,
              "#9c179e"
             ],
             [
              0.4444444444444444,
              "#bd3786"
             ],
             [
              0.5555555555555556,
              "#d8576b"
             ],
             [
              0.6666666666666666,
              "#ed7953"
             ],
             [
              0.7777777777777778,
              "#fb9f3a"
             ],
             [
              0.8888888888888888,
              "#fdca26"
             ],
             [
              1,
              "#f0f921"
             ]
            ],
            "type": "surface"
           }
          ],
          "table": [
           {
            "cells": {
             "fill": {
              "color": "#EBF0F8"
             },
             "line": {
              "color": "white"
             }
            },
            "header": {
             "fill": {
              "color": "#C8D4E3"
             },
             "line": {
              "color": "white"
             }
            },
            "type": "table"
           }
          ]
         },
         "layout": {
          "annotationdefaults": {
           "arrowcolor": "#2a3f5f",
           "arrowhead": 0,
           "arrowwidth": 1
          },
          "autotypenumbers": "strict",
          "coloraxis": {
           "colorbar": {
            "outlinewidth": 0,
            "ticks": ""
           }
          },
          "colorscale": {
           "diverging": [
            [
             0,
             "#8e0152"
            ],
            [
             0.1,
             "#c51b7d"
            ],
            [
             0.2,
             "#de77ae"
            ],
            [
             0.3,
             "#f1b6da"
            ],
            [
             0.4,
             "#fde0ef"
            ],
            [
             0.5,
             "#f7f7f7"
            ],
            [
             0.6,
             "#e6f5d0"
            ],
            [
             0.7,
             "#b8e186"
            ],
            [
             0.8,
             "#7fbc41"
            ],
            [
             0.9,
             "#4d9221"
            ],
            [
             1,
             "#276419"
            ]
           ],
           "sequential": [
            [
             0,
             "#0d0887"
            ],
            [
             0.1111111111111111,
             "#46039f"
            ],
            [
             0.2222222222222222,
             "#7201a8"
            ],
            [
             0.3333333333333333,
             "#9c179e"
            ],
            [
             0.4444444444444444,
             "#bd3786"
            ],
            [
             0.5555555555555556,
             "#d8576b"
            ],
            [
             0.6666666666666666,
             "#ed7953"
            ],
            [
             0.7777777777777778,
             "#fb9f3a"
            ],
            [
             0.8888888888888888,
             "#fdca26"
            ],
            [
             1,
             "#f0f921"
            ]
           ],
           "sequentialminus": [
            [
             0,
             "#0d0887"
            ],
            [
             0.1111111111111111,
             "#46039f"
            ],
            [
             0.2222222222222222,
             "#7201a8"
            ],
            [
             0.3333333333333333,
             "#9c179e"
            ],
            [
             0.4444444444444444,
             "#bd3786"
            ],
            [
             0.5555555555555556,
             "#d8576b"
            ],
            [
             0.6666666666666666,
             "#ed7953"
            ],
            [
             0.7777777777777778,
             "#fb9f3a"
            ],
            [
             0.8888888888888888,
             "#fdca26"
            ],
            [
             1,
             "#f0f921"
            ]
           ]
          },
          "colorway": [
           "#636efa",
           "#EF553B",
           "#00cc96",
           "#ab63fa",
           "#FFA15A",
           "#19d3f3",
           "#FF6692",
           "#B6E880",
           "#FF97FF",
           "#FECB52"
          ],
          "font": {
           "color": "#2a3f5f"
          },
          "geo": {
           "bgcolor": "white",
           "lakecolor": "white",
           "landcolor": "#E5ECF6",
           "showlakes": true,
           "showland": true,
           "subunitcolor": "white"
          },
          "hoverlabel": {
           "align": "left"
          },
          "hovermode": "closest",
          "mapbox": {
           "style": "light"
          },
          "paper_bgcolor": "white",
          "plot_bgcolor": "#E5ECF6",
          "polar": {
           "angularaxis": {
            "gridcolor": "white",
            "linecolor": "white",
            "ticks": ""
           },
           "bgcolor": "#E5ECF6",
           "radialaxis": {
            "gridcolor": "white",
            "linecolor": "white",
            "ticks": ""
           }
          },
          "scene": {
           "xaxis": {
            "backgroundcolor": "#E5ECF6",
            "gridcolor": "white",
            "gridwidth": 2,
            "linecolor": "white",
            "showbackground": true,
            "ticks": "",
            "zerolinecolor": "white"
           },
           "yaxis": {
            "backgroundcolor": "#E5ECF6",
            "gridcolor": "white",
            "gridwidth": 2,
            "linecolor": "white",
            "showbackground": true,
            "ticks": "",
            "zerolinecolor": "white"
           },
           "zaxis": {
            "backgroundcolor": "#E5ECF6",
            "gridcolor": "white",
            "gridwidth": 2,
            "linecolor": "white",
            "showbackground": true,
            "ticks": "",
            "zerolinecolor": "white"
           }
          },
          "shapedefaults": {
           "line": {
            "color": "#2a3f5f"
           }
          },
          "ternary": {
           "aaxis": {
            "gridcolor": "white",
            "linecolor": "white",
            "ticks": ""
           },
           "baxis": {
            "gridcolor": "white",
            "linecolor": "white",
            "ticks": ""
           },
           "bgcolor": "#E5ECF6",
           "caxis": {
            "gridcolor": "white",
            "linecolor": "white",
            "ticks": ""
           }
          },
          "title": {
           "x": 0.05
          },
          "xaxis": {
           "automargin": true,
           "gridcolor": "white",
           "linecolor": "white",
           "ticks": "",
           "title": {
            "standoff": 15
           },
           "zerolinecolor": "white",
           "zerolinewidth": 2
          },
          "yaxis": {
           "automargin": true,
           "gridcolor": "white",
           "linecolor": "white",
           "ticks": "",
           "title": {
            "standoff": 15
           },
           "zerolinecolor": "white",
           "zerolinewidth": 2
          }
         }
        }
       }
      }
     },
     "metadata": {},
     "output_type": "display_data"
    }
   ],
   "source": [
    "import plotly.express as px\n",
    "import pandas as pd  # Make sure you have pandas imported\n",
    "\n",
    "# Assuming 'tips' is your DataFrame\n",
    "fig1 = px.sunburst(tips,\n",
    "                   path=['sex', 'smoker', 'day', 'time','size','total_bill','tip'],\n",
    "                   values='size',color='size')\n",
    "fig1.show()"
   ]
  },
  {
   "cell_type": "markdown",
   "id": "b466fc84",
   "metadata": {},
   "source": [
    "Assignment done."
   ]
  }
 ],
 "metadata": {
  "kernelspec": {
   "display_name": "myenv",
   "language": "python",
   "name": "python3"
  },
  "language_info": {
   "codemirror_mode": {
    "name": "ipython",
    "version": 3
   },
   "file_extension": ".py",
   "mimetype": "text/x-python",
   "name": "python",
   "nbconvert_exporter": "python",
   "pygments_lexer": "ipython3",
   "version": "3.12.10"
  }
 },
 "nbformat": 4,
 "nbformat_minor": 5
}
